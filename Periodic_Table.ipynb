{
  "nbformat": 4,
  "nbformat_minor": 0,
  "metadata": {
    "colab": {
      "provenance": [],
      "authorship_tag": "ABX9TyPAdz8+ubv6TK2UCjJKJZWp",
      "include_colab_link": true
    },
    "kernelspec": {
      "name": "python3",
      "display_name": "Python 3"
    },
    "language_info": {
      "name": "python"
    }
  },
  "cells": [
    {
      "cell_type": "markdown",
      "metadata": {
        "id": "view-in-github",
        "colab_type": "text"
      },
      "source": [
        "<a href=\"https://colab.research.google.com/github/peterbmob/Labs/blob/main/Periodic_Table.ipynb\" target=\"_parent\"><img src=\"https://colab.research.google.com/assets/colab-badge.svg\" alt=\"Open In Colab\"/></a>"
      ]
    },
    {
      "cell_type": "markdown",
      "source": [
        "#Plotta data för elementen i periodiska systemet\n",
        "\n",
        "I den här boken använder vi oss av ett paket som here Mendeleev för att titta på trender hos elementen i periodiska systemet. Vi använder oss av python och paketen pandas och plotly för att phantera data och plotta den på ett effektivt sätt. "
      ],
      "metadata": {
        "id": "IRq2tAq15JUh"
      }
    },
    {
      "cell_type": "code",
      "execution_count": null,
      "metadata": {
        "id": "msMA7aIl4rJ3"
      },
      "outputs": [],
      "source": [
        "# Först, om du inte redan gjort detta, installera mendeleev paketet genom att trycka [shift]+enter\n",
        "#\n",
        "%%capture\n",
        "!pip install mendeleev[vis] \n",
        "!pip install --upgrade widget-periodictable"
      ]
    },
    {
      "cell_type": "code",
      "source": [
        "#Så här för du för att hämta all tillgänlig data för ett element\n",
        "from mendeleev import element\n",
        "\n",
        "data=element('Si')\n",
        "print(\"all data för Si:\")\n",
        "data"
      ],
      "metadata": {
        "id": "yv3fQrQ64z0y"
      },
      "execution_count": null,
      "outputs": []
    },
    {
      "cell_type": "code",
      "source": [
        "#hämta specifikt info om elektronegativiteten enligt paulingskalan för Si\n",
        "\n",
        "print('elektronegativiteten enligt Paulingskalan för Si är:', data.electronegativity())"
      ],
      "metadata": {
        "id": "MV6giE1N5DVw"
      },
      "execution_count": null,
      "outputs": []
    },
    {
      "cell_type": "markdown",
      "source": [
        "Om vi vill plotta trender så måste vi samla alla data för de atomer vi är intresserade av i en matris. Detta kan göras mha pandas. Se nedan:"
      ],
      "metadata": {
        "id": "6X9uSqO5pGjz"
      }
    },
    {
      "cell_type": "code",
      "source": [
        "from mendeleev.vis import create_vis_dataframe\n",
        "import pandas as pd\n",
        "\n",
        "elements = create_vis_dataframe()\n",
        "\n",
        "data=pd.DataFrame({'Atomic Number':elements['atomic_number'],'Symbol':elements['symbol'],'Block':elements['block'],'Ea':elements['electron_affinity'],'atomic weight':elements['atomic_weight'],'atomic abundance':elements['abundance_crust'], 'atomic radius':elements['atomic_radius']})\n",
        "\n",
        "\n",
        "\n",
        "\n"
      ],
      "metadata": {
        "id": "tRvhwrhw5Joi"
      },
      "execution_count": null,
      "outputs": []
    },
    {
      "cell_type": "markdown",
      "source": [
        "data är nu en stor matris med den data som vi specificerat i. Vill vi lägga till extra data i mattrisen gör vi så här: "
      ],
      "metadata": {
        "id": "4M6Jccc-pmEF"
      }
    },
    {
      "cell_type": "code",
      "source": [
        "from mendeleev.fetch import fetch_ionization_energies\n",
        "ies = fetch_ionization_energies(degree=1)\n",
        "data['IP']=ies\n",
        "data=data.dropna()"
      ],
      "metadata": {
        "id": "2nRuWRYFpuvp"
      },
      "execution_count": null,
      "outputs": []
    },
    {
      "cell_type": "markdown",
      "source": [
        "och vill vi titta på datat är det bara att:"
      ],
      "metadata": {
        "id": "J4tEF_RzqWAB"
      }
    },
    {
      "cell_type": "code",
      "source": [
        " data"
      ],
      "metadata": {
        "id": "gili8CKoqQdw"
      },
      "execution_count": null,
      "outputs": []
    },
    {
      "cell_type": "markdown",
      "source": [
        "för att plotta data i matrisen använder vi oss av plotly och anger i fälten x och y de variabler vi vill titta på i vår data-matris. Nedan följer några exempel. "
      ],
      "metadata": {
        "id": "lQiFfKrlqaQ1"
      }
    },
    {
      "cell_type": "code",
      "source": [
        "import plotly.express as px\n",
        "\n",
        "fig = px.scatter(\n",
        "    data_frame=data, \n",
        "    x='Atomic Number',\n",
        "    y='atomic radius',\n",
        "    color='Symbol',\n",
        "    symbol='Block',\n",
        ")\n",
        "fig.update_traces(marker_size=15)\n",
        "\n",
        "fig.show()"
      ],
      "metadata": {
        "id": "8Ave28x8prGj"
      },
      "execution_count": null,
      "outputs": []
    },
    {
      "cell_type": "code",
      "source": [
        "import plotly.express as px\n",
        "\n",
        "fig = px.scatter(\n",
        "    data_frame=data.loc[elements['block']=='s'],\n",
        "    x='Atomic Number',\n",
        "    y='atomic radius',\n",
        "    color='Symbol',\n",
        "    symbol='Block',\n",
        ")\n",
        "fig.update_traces(marker_size=15)\n",
        "\n",
        "fig.show()"
      ],
      "metadata": {
        "id": "dqFE0FEv29vP"
      },
      "execution_count": null,
      "outputs": []
    },
    {
      "cell_type": "code",
      "source": [
        "fig = px.scatter(\n",
        "    data_frame=data,\n",
        "    x='Atomic Number',\n",
        "    y='Ea',\n",
        "    color='Block',\n",
        "    range_y=[0, 5]\n",
        ")\n",
        "fig.update_traces(marker_size=15)\n",
        "\n",
        "fig.show()"
      ],
      "metadata": {
        "id": "FutsvCCe5bch"
      },
      "execution_count": null,
      "outputs": []
    },
    {
      "cell_type": "markdown",
      "source": [
        "Det kan ju vara intressant att titta på andra egenskaper och se hur de korrelerar: "
      ],
      "metadata": {
        "id": "dp4xcdldq5vB"
      }
    },
    {
      "cell_type": "code",
      "source": [
        "fig = px.scatter(\n",
        "    data_frame=data, \n",
        "    x='atomic radius',\n",
        "    y='IP',\n",
        "    color='Block',\n",
        "    #symbol='Block',\n",
        "    width=1200, \n",
        "    height=1200,\n",
        "    range_x=[0, 500],\n",
        "    range_y=[0, 20],\n",
        "    trendline=\"ols\"\n",
        "    )\n",
        "fig.update_traces(marker_size=15)\n",
        "fig.show()\n"
      ],
      "metadata": {
        "id": "VqYf7h9fqxXK"
      },
      "execution_count": null,
      "outputs": []
    },
    {
      "cell_type": "code",
      "source": [
        "fig = px.scatter(\n",
        "    data_frame=data, \n",
        "    x='atomic radius',\n",
        "    y='Ea',\n",
        "    color='Block',\n",
        "    width=1200, \n",
        "    height=1200,\n",
        "    range_y=[-0.5, 5],\n",
        "    range_x=[0, 500],\n",
        "    trendline=\"ols\"\n",
        ")\n",
        "fig.update_traces(marker_size=15)\n",
        "\n",
        "fig.show()"
      ],
      "metadata": {
        "id": "R0D6lt5-rJt_"
      },
      "execution_count": null,
      "outputs": []
    },
    {
      "cell_type": "code",
      "source": [
        "fig = px.scatter(\n",
        "    data_frame=data, \n",
        "    x='IP',\n",
        "    y='Ea',\n",
        "    color='Block',\n",
        "    width=1200, \n",
        "    height=1200,\n",
        "    range_x=[0, 20],\n",
        "    range_y=[0, 5],\n",
        "    trendline=\"ols\"\n",
        ")\n",
        "fig.update_traces(marker_size=15)\n",
        "fig.show()"
      ],
      "metadata": {
        "id": "1xkkf3lsrPxx"
      },
      "execution_count": null,
      "outputs": []
    },
    {
      "cell_type": "markdown",
      "source": [
        "Mendeleevpaketet har också en funktion för att färglägga periodiska systemet, vilket ger os en bra överblick för att lära oss om trender i periodiska systemet. För att göra detta agör vi så här: "
      ],
      "metadata": {
        "id": "K9ifv1RcrVoh"
      }
    },
    {
      "cell_type": "code",
      "source": [
        "#peropdiska systemet färgat efter standard färger för atomer i jmol\n",
        "from mendeleev.vis import periodic_table\n",
        "periodic_table(colorby='jmol_color', title=\"JMol Colors\")"
      ],
      "metadata": {
        "id": "eZP0RNlD5ySN"
      },
      "execution_count": null,
      "outputs": []
    },
    {
      "cell_type": "code",
      "source": [
        "#periodiska systemet färlagt efter covalenta radien \n",
        "periodic_table(attribute='covalent_radius_pyykko', colorby='attribute', title=\"Covalent Radii of Pyykko\")"
      ],
      "metadata": {
        "id": "2j1GyhT3586d"
      },
      "execution_count": null,
      "outputs": []
    },
    {
      "cell_type": "code",
      "source": [
        "#färg efter elektronaffinitet\n",
        "periodic_table(attribute='electron_affinity', colorby='attribute',\n",
        "              title=\"Electron Affinity\", cmap='jet')"
      ],
      "metadata": {
        "id": "EfVR-l506GZU"
      },
      "execution_count": null,
      "outputs": []
    }
  ]
}