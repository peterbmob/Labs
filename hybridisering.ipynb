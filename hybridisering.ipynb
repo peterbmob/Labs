{
  "nbformat": 4,
  "nbformat_minor": 0,
  "metadata": {
    "colab": {
      "provenance": [],
      "collapsed_sections": [],
      "authorship_tag": "ABX9TyNxTR5Y8uE0/dl6WNdNCl2S",
      "include_colab_link": true
    },
    "kernelspec": {
      "name": "python3",
      "display_name": "Python 3"
    },
    "language_info": {
      "name": "python"
    }
  },
  "cells": [
    {
      "cell_type": "markdown",
      "metadata": {
        "id": "view-in-github",
        "colab_type": "text"
      },
      "source": [
        "<a href=\"https://colab.research.google.com/github/peterbmob/Labs/blob/main/hybridisering.ipynb\" target=\"_parent\"><img src=\"https://colab.research.google.com/assets/colab-badge.svg\" alt=\"Open In Colab\"/></a>"
      ]
    },
    {
      "cell_type": "markdown",
      "source": [
        "#Rita lewisstrukturer och identifiera hybridisering"
      ],
      "metadata": {
        "id": "kSNcZNqihQW-"
      }
    },
    {
      "cell_type": "code",
      "source": [
        "#@title  Installera pikachu\n",
        "%%capture\n",
        "!pip install pikachu-chem\n"
      ],
      "metadata": {
        "id": "HaG-zzG5eDCd"
      },
      "execution_count": 6,
      "outputs": []
    },
    {
      "cell_type": "code",
      "source": [
        "#@title  Ladda nödvändiga moduler\n",
        "from pikachu.general import draw_smiles\n",
        "from pikachu.general import read_smiles\n",
        "\n",
        "from pikachu.drawing.drawing import Options\n",
        "from pprint import pprint\n"
      ],
      "metadata": {
        "cellView": "form",
        "id": "ooyBrvFTelJo"
      },
      "execution_count": 23,
      "outputs": []
    },
    {
      "cell_type": "code",
      "source": [
        "#@title  Ange smiles för strukturen du är intresserad av, kontrollera att du fått korrekt lewisstruktur\n",
        "#smiles =\"CCCCCCCCCC(=O)N[C@@H](CC1=CNC2=CC=CC=C21)C(=O)N[C@@H](CC(=O)N)C(=O)N[C@@H](CC(=O)O)C(=O)N[C@H]3[C@H](OC(=O)[C@@H](NC(=O)[C@@H](NC(=O)[C@H](NC(=O)CNC(=O)[C@@H](NC(=O)[C@H](NC(=O)[C@@H](NC(=O)[C@@H](NC(=O)CNC3=O)CCCN)CC(=O)O)C)CC(=O)O)CO)[C@H](C)CC(=O)O)CC(=O)C4=CC=CC=C4N)C\"\n",
        "smiles=\"C=CC\"\n",
        "options = Options()\n",
        "options.bond_thickness = 2 # Default value is 2\n",
        "structure = read_smiles(smiles)\n",
        "draw= draw_smiles(smiles, options=options)"
      ],
      "metadata": {
        "colab": {
          "base_uri": "https://localhost:8080/",
          "height": 208
        },
        "id": "j0UJHFMcerrI",
        "outputId": "39d572cb-99b4-451b-cf77-234f37673ba3"
      },
      "execution_count": 49,
      "outputs": [
        {
          "output_type": "display_data",
          "data": {
            "text/plain": [
              "<Figure size 135x171.962 with 1 Axes>"
            ],
            "image/png": "[encoded data removed]"
          },
          "metadata": {
            "needs_background": "light"
          }
        }
      ]
    },
    {
      "cell_type": "code",
      "source": [
        "#@title  Dessa atomer finns info om:\n",
        "pprint(structure.atoms)"
      ],
      "metadata": {
        "colab": {
          "base_uri": "https://localhost:8080/"
        },
        "cellView": "form",
        "id": "AIF3Z4jPe6I3",
        "outputId": "37755224-77a1-4c85-9adc-82a5fe4da2c8"
      },
      "execution_count": 50,
      "outputs": [
        {
          "output_type": "stream",
          "name": "stdout",
          "text": [
            "{0: C_0, 1: C_1, 2: C_2, 3: H_3, 4: H_4, 5: H_5, 6: H_6, 7: H_7, 8: H_8}\n"
          ]
        }
      ]
    },
    {
      "cell_type": "code",
      "source": [
        "#@title Ta fram info om specifik atom:\n",
        "\n",
        "atom = structure.atoms[0]\n",
        "\n",
        "print(\"Atom type:\", atom.type)\n",
        "print(\"Atom number:\", atom.nr)\n",
        "print(\"Hybridisation:\", atom.hybridisation)\n",
        "print(\"Bindningar (konnektivitet):\", atom.bonds)\n",
        "\n"
      ],
      "metadata": {
        "colab": {
          "base_uri": "https://localhost:8080/"
        },
        "id": "7Bv4z7W0hIXX",
        "outputId": "82016f9a-5b63-4f55-ea62-ebf40137b4bc"
      },
      "execution_count": 60,
      "outputs": [
        {
          "output_type": "stream",
          "name": "stdout",
          "text": [
            "Atom type: C\n",
            "Atom number: 0\n",
            "Hybridisation: sp2\n",
            "Bindningar (konnektivitet): [double_0:C_0_C_1, single_2:C_0_H_3, single_3:C_0_H_4]\n"
          ]
        }
      ]
    },
    {
      "cell_type": "code",
      "source": [
        "#@title Ta fram info ockupationen i de olika orbitalerna:\n",
        "atom.valence_shell.print_shell()"
      ],
      "metadata": {
        "colab": {
          "base_uri": "https://localhost:8080/"
        },
        "id": "Q0WIXLt1irwk",
        "outputId": "291d57ba-d325-44f5-a25b-4313a94c6c81"
      },
      "execution_count": 63,
      "outputs": [
        {
          "output_type": "stream",
          "name": "stdout",
          "text": [
            "2sp21\n",
            "[C_0_3_2sp21_-0.5, H_4_1_1s_0.5]\n",
            "2p1\n",
            "[C_0_5_2p1_-0.5, C_1_5_2p1_0.5]\n",
            "2sp22\n",
            "[C_0_6_2sp22_-0.5, H_3_1_1s_0.5]\n",
            "2sp23\n",
            "[C_0_4_2sp23_-0.5, C_1_4_2sp23_0.5]\n"
          ]
        }
      ]
    }
  ]
}