{
  "nbformat": 4,
  "nbformat_minor": 0,
  "metadata": {
    "colab": {
      "provenance": [],
      "authorship_tag": "ABX9TyPDTuQsK1mMIvKKsOtnmwXU",
      "include_colab_link": true
    },
    "kernelspec": {
      "name": "python3",
      "display_name": "Python 3"
    },
    "language_info": {
      "name": "python"
    }
  },
  "cells": [
    {
      "cell_type": "markdown",
      "metadata": {
        "id": "view-in-github",
        "colab_type": "text"
      },
      "source": [
        "<a href=\"https://colab.research.google.com/github/peterbmob/Labs/blob/main/huckel.ipynb\" target=\"_parent\"><img src=\"https://colab.research.google.com/assets/colab-badge.svg\" alt=\"Open In Colab\"/></a>"
      ]
    },
    {
      "cell_type": "code",
      "execution_count": 4,
      "metadata": {
        "id": "7SLByiOYv4Vx"
      },
      "outputs": [],
      "source": [
        "# First we need some graphics magic and libraries\n",
        "%matplotlib inline\n",
        "import numpy as np\n",
        "from numpy.linalg import eig\n",
        "import matplotlib.pyplot as plt\n",
        "import seaborn as sns\n",
        "# Improve readability of output\n",
        "np.set_printoptions(precision=3,suppress=True)"
      ]
    },
    {
      "cell_type": "code",
      "source": [
        "# HMO for Ethylene\n",
        "H2 = np.array([[0,1],[1,0]])\n",
        "# Calculate Eigenvectors and Eigenvalues\n",
        "l,v = eig(H2)\n",
        "# Print Matrix, Eigenvalues, and Eigenvectors\n",
        "print('HMO for Ethylene')"
      ],
      "metadata": {
        "colab": {
          "base_uri": "https://localhost:8080/"
        },
        "id": "5x9YOh-kv95o",
        "outputId": "871197db-7743-452b-927f-de8f7bf3b427"
      },
      "execution_count": 5,
      "outputs": [
        {
          "output_type": "stream",
          "name": "stdout",
          "text": [
            "HMO for Ethylene\n"
          ]
        }
      ]
    },
    {
      "cell_type": "code",
      "source": [
        "print(H2)\n",
        "print('V=', v.T[0],'\\u03BB=', l[0])\n",
        "print('V=', v.T[1],'\\u03BB=', l[1])\n"
      ],
      "metadata": {
        "colab": {
          "base_uri": "https://localhost:8080/"
        },
        "id": "Imh_dQMgwA7M",
        "outputId": "e72b3d08-e3ab-4768-ed17-bc1768482548"
      },
      "execution_count": 6,
      "outputs": [
        {
          "output_type": "stream",
          "name": "stdout",
          "text": [
            "[[0 1]\n",
            " [1 0]]\n",
            "V= [0.707 0.707] λ= 1.0\n",
            "V= [-0.707  0.707] λ= -1.0\n"
          ]
        }
      ]
    },
    {
      "cell_type": "code",
      "source": [
        "# HMO for Butadiene\n",
        "H4 = np.array([\n",
        "[0,1,0,0],\n",
        "[1,0,1,0],\n",
        "[0,1,0,1],\n",
        "[0,0,1,0]\n",
        "])\n",
        "# Calculate Eigenvectors and Eigenvalues\n",
        "l,v = eig(H4)\n",
        "# Print Matrix, Eigenvalues, and Eigenvectors\n",
        "print('HMO for Butadiene')\n",
        "print(H4)\n",
        "print('Eigenvalues: \\n', l)\n",
        "print('Eigenvectors: \\n', v)"
      ],
      "metadata": {
        "colab": {
          "base_uri": "https://localhost:8080/"
        },
        "id": "1WrNYqMdz9CQ",
        "outputId": "9dd08fae-9e93-47af-c4bf-a00b879b1200"
      },
      "execution_count": 9,
      "outputs": [
        {
          "output_type": "stream",
          "name": "stdout",
          "text": [
            "HMO for Butadiene\n",
            "[[0 1 0 0]\n",
            " [1 0 1 0]\n",
            " [0 1 0 1]\n",
            " [0 0 1 0]]\n",
            "Eigenvalues: \n",
            " [-1.618 -0.618  1.618  0.618]\n",
            "Eigenvectors: \n",
            " [[ 0.372  0.602 -0.372 -0.602]\n",
            " [-0.602 -0.372 -0.602 -0.372]\n",
            " [ 0.602 -0.372 -0.602  0.372]\n",
            " [-0.372  0.602 -0.372  0.602]]\n"
          ]
        }
      ]
    },
    {
      "cell_type": "code",
      "source": [
        "# HMO for Cyclobutadiene\n",
        "C4 = np.array([\n",
        "[0,1,0,1],\n",
        "[1,0,1,0],\n",
        "[0,1,0,1],\n",
        "[1,0,1,0]\n",
        "])\n"
      ],
      "metadata": {
        "id": "brgswvTu0HcQ"
      },
      "execution_count": 13,
      "outputs": []
    },
    {
      "cell_type": "code",
      "source": [
        "# Calculate Eigenvectors and Eigenvalues\n",
        "l,v = eig(C4)\n",
        "# Print Matrix, Eigenvalues, and Eigenvectors\n",
        "print('HMO for Cyclobutadiene')\n",
        "print(C4)\n",
        "print('Eigenvalues: \\n', l)\n",
        "print('Eigenvectors: \\n', v)"
      ],
      "metadata": {
        "colab": {
          "base_uri": "https://localhost:8080/"
        },
        "id": "gdFUTiaw0PIb",
        "outputId": "57edb882-e4d7-446d-81c5-021c04351804"
      },
      "execution_count": 14,
      "outputs": [
        {
          "output_type": "stream",
          "name": "stdout",
          "text": [
            "HMO for Cyclobutadiene\n",
            "[[0 1 0 1]\n",
            " [1 0 1 0]\n",
            " [0 1 0 1]\n",
            " [1 0 1 0]]\n",
            "Eigenvalues: \n",
            " [-2.  0.  2.  0.]\n",
            "Eigenvectors: \n",
            " [[ 0.5   -0.707  0.5    0.   ]\n",
            " [-0.5   -0.     0.5   -0.707]\n",
            " [ 0.5    0.707  0.5    0.   ]\n",
            " [-0.5   -0.     0.5    0.707]]\n"
          ]
        }
      ]
    },
    {
      "cell_type": "code",
      "source": [
        "def linearHuckel(n):\n",
        "   '''linearHuckel generates Huckel adjacency matrix for linear polyene with n␣,→sp2 carbons Input: n - integer number of sp2 carbons, 2 or greater Output: n x n matrix'''\n",
        "   return np.diag(np.ones(n-1),1) + np.diag(np.ones(n-1),-1)\n",
        "def printEigen(H):\n",
        "   '''printEigen prints Eigenvalues and Eigenvectors for given matrix Input: n x n matrix Output: print of input matrix and Eigenvalues/Eigenvectors'''\n",
        "   L,V = eig(H)\n",
        "   reorder = L.argsort()\n",
        "   np.set_printoptions(precision=3,suppress=True)\n",
        "   print('Huckel Matrix: ')\n",
        "   print(H)\n",
        "   print('Eigenvalues:')\n",
        "   print(L[reorder])\n",
        "   print('Eigenvectors: ')\n",
        "   print(V[:,reorder])"
      ],
      "metadata": {
        "id": "4lIhDx1h0VP0"
      },
      "execution_count": 21,
      "outputs": []
    },
    {
      "cell_type": "code",
      "source": [
        "# plt.figure(figsize=(8,8))\n",
        "H8 = linearHuckel(8)\n",
        "printEigen(H8)"
      ],
      "metadata": {
        "colab": {
          "base_uri": "https://localhost:8080/"
        },
        "id": "cZqWwbuZ0tdM",
        "outputId": "9746c9f0-b292-4bfb-f569-b76401d3ab56"
      },
      "execution_count": 22,
      "outputs": [
        {
          "output_type": "stream",
          "name": "stdout",
          "text": [
            "Huckel Matrix: \n",
            "[[0. 1. 0. 0. 0. 0. 0. 0.]\n",
            " [1. 0. 1. 0. 0. 0. 0. 0.]\n",
            " [0. 1. 0. 1. 0. 0. 0. 0.]\n",
            " [0. 0. 1. 0. 1. 0. 0. 0.]\n",
            " [0. 0. 0. 1. 0. 1. 0. 0.]\n",
            " [0. 0. 0. 0. 1. 0. 1. 0.]\n",
            " [0. 0. 0. 0. 0. 1. 0. 1.]\n",
            " [0. 0. 0. 0. 0. 0. 1. 0.]]\n",
            "Eigenvalues:\n",
            "[-1.879 -1.532 -1.    -0.347  0.347  1.     1.532  1.879]\n",
            "Eigenvectors: \n",
            "[[ 0.161  0.303 -0.408  0.464  0.464  0.408  0.303  0.161]\n",
            " [-0.303 -0.464  0.408 -0.161  0.161  0.408  0.464  0.303]\n",
            " [ 0.408  0.408  0.    -0.408 -0.408 -0.     0.408  0.408]\n",
            " [-0.464 -0.161 -0.408  0.303 -0.303 -0.408  0.161  0.464]\n",
            " [ 0.464 -0.161  0.408  0.303  0.303 -0.408 -0.161  0.464]\n",
            " [-0.408  0.408 -0.    -0.408  0.408 -0.    -0.408  0.408]\n",
            " [ 0.303 -0.464 -0.408 -0.161 -0.161  0.408 -0.464  0.303]\n",
            " [-0.161  0.303  0.408  0.464 -0.464  0.408 -0.303  0.161]]\n"
          ]
        }
      ]
    },
    {
      "cell_type": "code",
      "source": [
        "plt.imshow(H8)"
      ],
      "metadata": {
        "colab": {
          "base_uri": "https://localhost:8080/",
          "height": 283
        },
        "id": "Ko3SBsX_0xkK",
        "outputId": "7bd6b46f-958c-424f-a572-e69c747489b4"
      },
      "execution_count": 24,
      "outputs": [
        {
          "output_type": "execute_result",
          "data": {
            "text/plain": [
              "<matplotlib.image.AxesImage at 0x7f651c2670d0>"
            ]
          },
          "metadata": {},
          "execution_count": 24
        },
        {
          "output_type": "display_data",
          "data": {
            "text/plain": [
              "<Figure size 432x288 with 1 Axes>"
            ],
            "image/png": "[encoded data removed]"
          },
          "metadata": {
            "needs_background": "light"
          }
        }
      ]
    },
    {
      "cell_type": "code",
      "source": [
        "# Alternative calculation for Cyclobutadiene\n",
        "C4 = linearHuckel(4) # first generate linear (butadiene) matrix\n",
        "C4[0,3]=1 # then add one bond to close the cycle\n",
        "C4[3,0]=1 # this needs to be done twice - matrix is symmetric\n",
        "printEigen(C4) # print results\n",
        "#sns.heatmap(C4,cbar=False,square=True,cmap=plt.get_cmap('BuGn')) # chessboard␣,→matrix of Cyclobutadiene"
      ],
      "metadata": {
        "colab": {
          "base_uri": "https://localhost:8080/"
        },
        "id": "4ObqmnLz00JZ",
        "outputId": "07fa8f43-96d0-4fe2-cca1-f4adf6df8a2e"
      },
      "execution_count": 28,
      "outputs": [
        {
          "output_type": "stream",
          "name": "stdout",
          "text": [
            "Huckel Matrix: \n",
            "[[0. 1. 0. 1.]\n",
            " [1. 0. 1. 0.]\n",
            " [0. 1. 0. 1.]\n",
            " [1. 0. 1. 0.]]\n",
            "Eigenvalues:\n",
            "[-2.  0.  0.  2.]\n",
            "Eigenvectors: \n",
            "[[ 0.5    0.    -0.707  0.5  ]\n",
            " [-0.5   -0.707 -0.     0.5  ]\n",
            " [ 0.5    0.     0.707  0.5  ]\n",
            " [-0.5    0.707 -0.     0.5  ]]\n"
          ]
        }
      ]
    },
    {
      "cell_type": "code",
      "source": [
        " # calculation for Naphthalene\n",
        "C10 = linearHuckel(10) # first generate linear (decapentaene) matrix\n",
        "C10[0,9]=1 # then add one bond to close the cycle\n",
        "C10[9,0]=1 # this needs to be done twice - matrix is symmetric\n",
        "C10[2,7]=1 # add one more bond down the middle\n",
        "C10[7,2]=1 # and repeat for symmetry\n",
        "printEigen(C10) # print results"
      ],
      "metadata": {
        "colab": {
          "base_uri": "https://localhost:8080/"
        },
        "id": "0GV08jh_09ib",
        "outputId": "77b13d0d-1482-4275-bee9-1f3cb1e1debb"
      },
      "execution_count": 29,
      "outputs": [
        {
          "output_type": "stream",
          "name": "stdout",
          "text": [
            "Huckel Matrix: \n",
            "[[0. 1. 0. 0. 0. 0. 0. 0. 0. 1.]\n",
            " [1. 0. 1. 0. 0. 0. 0. 0. 0. 0.]\n",
            " [0. 1. 0. 1. 0. 0. 0. 1. 0. 0.]\n",
            " [0. 0. 1. 0. 1. 0. 0. 0. 0. 0.]\n",
            " [0. 0. 0. 1. 0. 1. 0. 0. 0. 0.]\n",
            " [0. 0. 0. 0. 1. 0. 1. 0. 0. 0.]\n",
            " [0. 0. 0. 0. 0. 1. 0. 1. 0. 0.]\n",
            " [0. 0. 1. 0. 0. 0. 1. 0. 1. 0.]\n",
            " [0. 0. 0. 0. 0. 0. 0. 1. 0. 1.]\n",
            " [1. 0. 0. 0. 0. 0. 0. 0. 1. 0.]]\n",
            "Eigenvalues:\n",
            "[-2.303 -1.618 -1.303 -1.    -0.618  0.618  1.     1.303  1.618  2.303]\n",
            "Eigenvectors: \n",
            "[[-0.231 -0.425  0.174  0.408  0.263  0.263 -0.408 -0.174  0.425  0.231]\n",
            " [ 0.301  0.263 -0.4   -0.    -0.425  0.425  0.    -0.4    0.263  0.301]\n",
            " [-0.461 -0.     0.347 -0.408  0.     0.     0.408 -0.347  0.     0.461]\n",
            " [ 0.301 -0.263 -0.4    0.     0.425 -0.425  0.    -0.4   -0.263  0.301]\n",
            " [-0.231  0.425  0.174  0.408 -0.263 -0.263 -0.408 -0.174 -0.425  0.231]\n",
            " [ 0.231 -0.425  0.174 -0.408 -0.263  0.263 -0.408  0.174 -0.425  0.231]\n",
            " [-0.301  0.263 -0.4    0.     0.425  0.425 -0.     0.4   -0.263  0.301]\n",
            " [ 0.461 -0.     0.347  0.408 -0.    -0.     0.408  0.347  0.     0.461]\n",
            " [-0.301 -0.263 -0.4   -0.    -0.425 -0.425 -0.     0.4    0.263  0.301]\n",
            " [ 0.231  0.425  0.174 -0.408  0.263 -0.263 -0.408  0.174  0.425  0.231]]\n"
          ]
        }
      ]
    },
    {
      "cell_type": "code",
      "source": [
        "plt.imshow(C10)\n"
      ],
      "metadata": {
        "colab": {
          "base_uri": "https://localhost:8080/",
          "height": 283
        },
        "id": "HIEqiSQY1Axw",
        "outputId": "65ef2ed9-31af-4284-f446-4c9d1929e030"
      },
      "execution_count": 31,
      "outputs": [
        {
          "output_type": "execute_result",
          "data": {
            "text/plain": [
              "<matplotlib.image.AxesImage at 0x7f6507ca2190>"
            ]
          },
          "metadata": {},
          "execution_count": 31
        },
        {
          "output_type": "display_data",
          "data": {
            "text/plain": [
              "<Figure size 432x288 with 1 Axes>"
            ],
            "image/png": "[encoded data removed]"
          },
          "metadata": {
            "needs_background": "light"
          }
        }
      ]
    },
    {
      "cell_type": "code",
      "source": [
        "# HMO for acrolein\n",
        "A = linearHuckel(4) # First build the standard tridiagonal matrix of dimension␣,→4\n",
        "A[3,3]=2 # Change the alpha for element corresponding to O atom␣,→from 0 to 2\n",
        "# (remember Python indeces start with 0)\n",
        "printEigen(A)\n"
      ],
      "metadata": {
        "colab": {
          "base_uri": "https://localhost:8080/"
        },
        "id": "RWhVSxBv1FQw",
        "outputId": "ae458bda-1b1b-4eeb-a407-6ab9e7142cb8"
      },
      "execution_count": 33,
      "outputs": [
        {
          "output_type": "stream",
          "name": "stdout",
          "text": [
            "Huckel Matrix: \n",
            "[[0. 1. 0. 0.]\n",
            " [1. 0. 1. 0.]\n",
            " [0. 1. 0. 1.]\n",
            " [0. 0. 1. 2.]]\n",
            "Eigenvalues:\n",
            "[-1.496 -0.22   1.22   2.496]\n",
            "Eigenvectors: \n",
            "[[-0.452 -0.684  0.567  0.083]\n",
            " [ 0.676  0.15   0.691  0.207]\n",
            " [-0.559  0.651  0.276  0.433]\n",
            " [ 0.16  -0.293 -0.354  0.874]]\n"
          ]
        }
      ]
    },
    {
      "cell_type": "code",
      "source": [
        "# Calculate HOMO-LUMO Enegy gap for a set of polyenes\n",
        "def gap(H):\n",
        "   '''gap calculates HOMO-LUMO gap for polyenes with even number of sp2 carbons\n",
        "   Input: H matrix\n",
        "   Output: HOMO-LUMO energy difference\n",
        "   '''\n",
        "   L = np.sort(eig(H)[0])\n",
        "   half = len(L)//2\n",
        "   return L[half] - L[half - 1]\n",
        "N = 10 # number of structures\n",
        "gapSeries = np.zeros(N)\n",
        "for n in range(N):\n",
        "   H = linearHuckel(2*(n+1))\n",
        "   gapSeries[n] = gap(H)\n",
        "\n",
        "plt.plot(np.arange(N)*2+2,gapSeries)\n",
        "plt.plot(np.arange(N)*2+2,gapSeries,'ro')\n"
      ],
      "metadata": {
        "colab": {
          "base_uri": "https://localhost:8080/",
          "height": 283
        },
        "id": "UBo9cbtE2UWN",
        "outputId": "eab61d3d-4bbb-4c56-8863-275d14c8de95"
      },
      "execution_count": 38,
      "outputs": [
        {
          "output_type": "execute_result",
          "data": {
            "text/plain": [
              "[<matplotlib.lines.Line2D at 0x7f6507b0d910>]"
            ]
          },
          "metadata": {},
          "execution_count": 38
        },
        {
          "output_type": "display_data",
          "data": {
            "text/plain": [
              "<Figure size 432x288 with 1 Axes>"
            ],
            "image/png": "[encoded data removed]"
          },
          "metadata": {
            "needs_background": "light"
          }
        }
      ]
    }
  ]
}