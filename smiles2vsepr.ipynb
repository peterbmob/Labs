{
  "nbformat": 4,
  "nbformat_minor": 0,
  "metadata": {
    "colab": {
      "provenance": [],
      "authorship_tag": "ABX9TyNLsrw9hlODYgxNgNv9uNCt",
      "include_colab_link": true
    },
    "kernelspec": {
      "name": "python3",
      "display_name": "Python 3"
    },
    "language_info": {
      "name": "python"
    }
  },
  "cells": [
    {
      "cell_type": "markdown",
      "metadata": {
        "id": "view-in-github",
        "colab_type": "text"
      },
      "source": [
        "<a href=\"https://colab.research.google.com/github/peterbmob/Labs/blob/main/smiles2vsepr.ipynb\" target=\"_parent\"><img src=\"https://colab.research.google.com/assets/colab-badge.svg\" alt=\"Open In Colab\"/></a>"
      ]
    },
    {
      "cell_type": "code",
      "execution_count": null,
      "metadata": {
        "id": "YWdo-TWZgIkr"
      },
      "outputs": [],
      "source": [
        "#@title  Installera Condacolab (kernel kraschar en gång, det är bara att ändå gå vidare till nästa cell)\n",
        "!pip install -q condacolab\n",
        "import condacolab\n",
        "condacolab.install()"
      ]
    },
    {
      "cell_type": "code",
      "source": [
        "#@title  Installera Openbabel, molSimplify och py3dmol\n",
        "%%capture\n",
        "!conda install openbabel -c conda-forge \n",
        "!conda install -c hjkgroup molSimplify\n",
        "!conda install -c conda-forge py3dmol\n"
      ],
      "metadata": {
        "cellView": "form",
        "id": "UqTdmAJNmnmr"
      },
      "execution_count": null,
      "outputs": []
    },
    {
      "cell_type": "code",
      "source": [
        "#@title  Ladda növändiga moduler\n",
        "from molSimplify.Classes.mol3D import mol3D\n",
        "from molSimplify.Informatics.jupyter_vis import view_structures"
      ],
      "metadata": {
        "cellView": "form",
        "id": "MHFSrUGEgn66"
      },
      "execution_count": null,
      "outputs": []
    },
    {
      "cell_type": "code",
      "source": [
        "#@title  Ange smilesträng för den molekyl du vill visualisera\n",
        "molekyl='c1cc2ccccc2cc1' \n"
      ],
      "metadata": {
        "id": "sVxjl9wS5Moo"
      },
      "execution_count": 80,
      "outputs": []
    },
    {
      "cell_type": "code",
      "source": [
        "#@title  Visualisera molekylen\n",
        "mol = mol3D()          # create a mol3D object\n",
        "mol.read_smiles(molekyl) # read SMILES string into the mol3D object\n",
        "#print(mol.writexyz('', writestring=True)) # Print the xyz file corresponding to pro\n",
        "view_structures([mol])"
      ],
      "metadata": {
        "colab": {
          "base_uri": "https://localhost:8080/",
          "height": 417
        },
        "cellView": "form",
        "id": "baTBJuujgpjG",
        "outputId": "cc40b3c4-c138-4ecb-eda6-7ed714911bf1"
      },
      "execution_count": 81,
      "outputs": [
        {
          "output_type": "display_data",
          "data": {
            "application/3dmoljs_load.v0": "<div id=\"3dmolviewer_16678267879482021\"  style=\"position: relative; width: 400px; height: 400px\">\n        <p id=\"3dmolwarning_16678267879482021\" style=\"background-color:#ffcccc;color:black\">You appear to be running in JupyterLab (or JavaScript failed to load for some other reason).  You need to install the 3dmol extension: <br>\n        <tt>jupyter labextension install jupyterlab_3dmol</tt></p>\n        </div>\n<script>\n\nvar loadScriptAsync = function(uri){\n  return new Promise((resolve, reject) => {\n    var tag = document.createElement('script');\n    tag.src = uri;\n    tag.async = true;\n    tag.onload = () => {\n      resolve();\n    };\n  var firstScriptTag = document.getElementsByTagName('script')[0];\n  firstScriptTag.parentNode.insertBefore(tag, firstScriptTag);\n});\n};\n\nif(typeof $3Dmolpromise === 'undefined') {\n$3Dmolpromise = null;\n  $3Dmolpromise = loadScriptAsync('https://cdn.jsdelivr.net/npm/3dmol@latest/build/3Dmol-min.min.js');\n}\n\nvar viewer_16678267879482021 = null;\nvar warn = document.getElementById(\"3dmolwarning_16678267879482021\");\nif(warn) {\n    warn.parentNode.removeChild(warn);\n}\n$3Dmolpromise.then(function() {\nviewer_16678267879482021 = $3Dmol.createViewer($(\"#3dmolviewer_16678267879482021\"),{backgroundColor:\"white\"});\nviewer_16678267879482021.zoomTo();\n\tviewer_16678267879482021.addModel(\"18 \\n\\nC \\t-0.338283\\t-0.317310\\t0.460766\\nC \\t0.665299\\t-1.068586\\t1.074711\\nC \\t1.866176\\t-0.465175\\t1.482356\\nC \\t2.885866\\t-1.206431\\t2.101350\\nC \\t4.073581\\t-0.591185\\t2.500508\\nC \\t4.257227\\t0.771727\\t2.286288\\nC \\t3.253643\\t1.523003\\t1.672345\\nC \\t2.052765\\t0.919593\\t1.264703\\nC \\t1.033074\\t1.660850\\t0.645711\\nC \\t-0.154639\\t1.045603\\t0.246551\\nH \\t-1.262569\\t-0.797417\\t0.150422\\nH \\t0.503497\\t-2.132247\\t1.233598\\nH \\t2.760717\\t-2.272367\\t2.277186\\nH \\t4.854223\\t-1.177127\\t2.978407\\nH \\t5.181514\\t1.251833\\t2.596627\\nH \\t3.415446\\t2.586664\\t1.513455\\nH \\t1.158222\\t2.726787\\t0.469878\\nH \\t-0.935282\\t1.631545\\t-0.231348\\n\",\"xyz\");\n\tviewer_16678267879482021.setStyle({\"stick\": {\"colorscheme\": \"Jmol\"}});\n\tviewer_16678267879482021.zoomTo();\nviewer_16678267879482021.render();\n});\n</script>",
            "text/html": [
              "<div id=\"3dmolviewer_16678267879482021\"  style=\"position: relative; width: 400px; height: 400px\">\n",
              "        <p id=\"3dmolwarning_16678267879482021\" style=\"background-color:#ffcccc;color:black\">You appear to be running in JupyterLab (or JavaScript failed to load for some other reason).  You need to install the 3dmol extension: <br>\n",
              "        <tt>jupyter labextension install jupyterlab_3dmol</tt></p>\n",
              "        </div>\n",
              "<script>\n",
              "\n",
              "var loadScriptAsync = function(uri){\n",
              "  return new Promise((resolve, reject) => {\n",
              "    var tag = document.createElement('script');\n",
              "    tag.src = uri;\n",
              "    tag.async = true;\n",
              "    tag.onload = () => {\n",
              "      resolve();\n",
              "    };\n",
              "  var firstScriptTag = document.getElementsByTagName('script')[0];\n",
              "  firstScriptTag.parentNode.insertBefore(tag, firstScriptTag);\n",
              "});\n",
              "};\n",
              "\n",
              "if(typeof $3Dmolpromise === 'undefined') {\n",
              "$3Dmolpromise = null;\n",
              "  $3Dmolpromise = loadScriptAsync('https://cdn.jsdelivr.net/npm/3dmol@latest/build/3Dmol-min.min.js');\n",
              "}\n",
              "\n",
              "var viewer_16678267879482021 = null;\n",
              "var warn = document.getElementById(\"3dmolwarning_16678267879482021\");\n",
              "if(warn) {\n",
              "    warn.parentNode.removeChild(warn);\n",
              "}\n",
              "$3Dmolpromise.then(function() {\n",
              "viewer_16678267879482021 = $3Dmol.createViewer($(\"#3dmolviewer_16678267879482021\"),{backgroundColor:\"white\"});\n",
              "viewer_16678267879482021.zoomTo();\n",
              "\tviewer_16678267879482021.addModel(\"18 \\n\\nC \\t-0.338283\\t-0.317310\\t0.460766\\nC \\t0.665299\\t-1.068586\\t1.074711\\nC \\t1.866176\\t-0.465175\\t1.482356\\nC \\t2.885866\\t-1.206431\\t2.101350\\nC \\t4.073581\\t-0.591185\\t2.500508\\nC \\t4.257227\\t0.771727\\t2.286288\\nC \\t3.253643\\t1.523003\\t1.672345\\nC \\t2.052765\\t0.919593\\t1.264703\\nC \\t1.033074\\t1.660850\\t0.645711\\nC \\t-0.154639\\t1.045603\\t0.246551\\nH \\t-1.262569\\t-0.797417\\t0.150422\\nH \\t0.503497\\t-2.132247\\t1.233598\\nH \\t2.760717\\t-2.272367\\t2.277186\\nH \\t4.854223\\t-1.177127\\t2.978407\\nH \\t5.181514\\t1.251833\\t2.596627\\nH \\t3.415446\\t2.586664\\t1.513455\\nH \\t1.158222\\t2.726787\\t0.469878\\nH \\t-0.935282\\t1.631545\\t-0.231348\\n\",\"xyz\");\n",
              "\tviewer_16678267879482021.setStyle({\"stick\": {\"colorscheme\": \"Jmol\"}});\n",
              "\tviewer_16678267879482021.zoomTo();\n",
              "viewer_16678267879482021.render();\n",
              "});\n",
              "</script>"
            ]
          },
          "metadata": {}
        }
      ]
    },
    {
      "cell_type": "markdown",
      "source": [
        "#Vad är SMILES? \n",
        "\n",
        "**SMILES** står för **S**implified **M**olecular **I**nput **L**ine **E**ntry **S**ystem \n",
        "\n",
        "Det är alltså ett förenklat sätt att skriva kemiska strukturer. \n",
        "\n",
        "##Några exempel på smilessträngar:\n",
        "Smilesträng |  kemisk förening\n",
        "\n",
        "CC | CH3CH3\tEthane\n",
        "\n",
        "C=C |\tCH2CH2\tEthene\n",
        "\n",
        "CBr\t|CH3Br\tBromomethane\n",
        "\n",
        "C#N\tC=N\t| Hydrocyanic acid\n",
        "\n",
        "CC(O)C\t| 2-Propanol\n",
        "\n",
        "CC(=O)C\t| 2-Propanone\n",
        "\n",
        "CC(CC)C\t| 2-Methylbutane\n",
        "\n",
        "CC(C)CC(=O) |\t2-Methylbutanal\n",
        "\n",
        "c1c(N(=O)=O)cccc1\t | Nitrobenzene\n",
        "\n",
        "CC(C)(C)CC |\t2,2-Dimethylbutane\n",
        "\n",
        "\n",
        "C=1CCCCC1\t | Cyclohexene\n",
        "\n",
        "c1ccccc1 | \tBenzene\n",
        "\n",
        "C1OC1CC\t|  Ethyloxirane\n",
        "\n",
        "c1cc2ccccc2cc1\t | Naphthalene\n",
        "\n",
        "S(F)(F)(F)(F)(F)(F) |   SF6\n"
      ],
      "metadata": {
        "id": "OjKuFEwy9X3F"
      }
    },
    {
      "cell_type": "code",
      "source": [
        "#@title  Funkar även att ange flera smilesträngar\n",
        "smiles_strings = ['CCC', 'CCC(F)', 'CCC(F)(F)', 'CCC(F)(F)(F)', 'CC(F)C(F)(F)(F)', 'CC(F)(F)C(F)(F)(F)']\n"
      ],
      "metadata": {
        "id": "E6caQ_vYgtVJ"
      },
      "execution_count": 78,
      "outputs": []
    },
    {
      "cell_type": "code",
      "source": [
        "#@title  Ange smilesträng för den molekyl du vill visualisera\n",
        "mol3Ds = []\n",
        "for smiles_string in smiles_strings:\n",
        "    mymol = mol3D()\n",
        "    mymol.read_smiles(smiles_string)\n",
        "    mol3Ds += [mymol]\n",
        "view_structures(mol3Ds, w=300, h=300, columns=3)"
      ],
      "metadata": {
        "colab": {
          "base_uri": "https://localhost:8080/",
          "height": 617
        },
        "cellView": "form",
        "id": "EnsPrSyuMuFk",
        "outputId": "d0adc58b-4732-4f78-c5c2-1266c48e207b"
      },
      "execution_count": 79,
      "outputs": [
        {
          "output_type": "display_data",
          "data": {
            "application/3dmoljs_load.v0": "<div id=\"3dmolviewer_16678264048164194\"  style=\"position: relative; width: 900px; height: 600px\">\n        <p id=\"3dmolwarning_16678264048164194\" style=\"background-color:#ffcccc;color:black\">You appear to be running in JupyterLab (or JavaScript failed to load for some other reason).  You need to install the 3dmol extension: <br>\n        <tt>jupyter labextension install jupyterlab_3dmol</tt></p>\n        </div>\n<script>\n\nvar loadScriptAsync = function(uri){\n  return new Promise((resolve, reject) => {\n    var tag = document.createElement('script');\n    tag.src = uri;\n    tag.async = true;\n    tag.onload = () => {\n      resolve();\n    };\n  var firstScriptTag = document.getElementsByTagName('script')[0];\n  firstScriptTag.parentNode.insertBefore(tag, firstScriptTag);\n});\n};\n\nif(typeof $3Dmolpromise === 'undefined') {\n$3Dmolpromise = null;\n  $3Dmolpromise = loadScriptAsync('https://cdn.jsdelivr.net/npm/3dmol@latest/build/3Dmol-min.min.js');\n}\n\nvar viewer_16678264048164194 = null;\nvar warn = document.getElementById(\"3dmolwarning_16678264048164194\");\nif(warn) {\n    warn.parentNode.removeChild(warn);\n}\n$3Dmolpromise.then(function() {\nvar viewergrid_16678264048164194 = null;\nviewergrid_16678264048164194 = $3Dmol.createViewerGrid($(\"#3dmolviewer_16678264048164194\"),{rows: 2, cols: 3, control_all: false},{backgroundColor:\"white\"});\nviewer_16678264048164194 = viewergrid_16678264048164194[0][0];\nviewergrid_16678264048164194[0][0].zoomTo();viewergrid_16678264048164194[0][1].zoomTo();viewergrid_16678264048164194[0][2].zoomTo();viewergrid_16678264048164194[1][0].zoomTo();viewergrid_16678264048164194[1][1].zoomTo();viewergrid_16678264048164194[1][2].zoomTo();\tviewergrid_16678264048164194[0][0].addModel(\"11 \\n\\nC \\t1.038258\\t0.081896\\t0.037779\\nC \\t0.545577\\t-1.349656\\t0.165422\\nC \\t1.038044\\t-1.999992\\t1.447182\\nH \\t0.683203\\t0.694913\\t0.872377\\nH \\t0.670979\\t0.527965\\t-0.891750\\nH \\t2.132209\\t0.120600\\t0.024233\\nH \\t-0.549854\\t-1.361327\\t0.148017\\nH \\t0.891276\\t-1.932516\\t-0.695493\\nH \\t0.682966\\t-1.452777\\t2.326320\\nH \\t0.670627\\t-3.028663\\t1.516014\\nH \\t2.131988\\t-2.027084\\t1.478198\\n\",\"xyz\");\n\tviewergrid_16678264048164194[0][0].setStyle({\"stick\": {\"colorscheme\": \"Jmol\"}});\n\tviewergrid_16678264048164194[0][0].zoomTo();\n\tviewergrid_16678264048164194[0][1].addModel(\"11 \\n\\nC \\t0.988098\\t-0.057340\\t-0.078399\\nC \\t0.488624\\t-1.322533\\t-0.757674\\nC \\t0.990751\\t-2.571907\\t-0.056742\\nF \\t0.495561\\t-2.604401\\t1.208841\\nH \\t0.646315\\t-0.006682\\t0.960316\\nH \\t0.612843\\t0.827313\\t-0.602365\\nH \\t2.082017\\t-0.016053\\t-0.082427\\nH \\t-0.606923\\t-1.317431\\t-0.749645\\nH \\t0.816563\\t-1.329716\\t-1.802649\\nH \\t0.647198\\t-3.472435\\t-0.573584\\nH \\t2.082824\\t-2.593478\\t0.002982\\n\",\"xyz\");\n\tviewergrid_16678264048164194[0][1].setStyle({\"stick\": {\"colorscheme\": \"Jmol\"}});\n\tviewergrid_16678264048164194[0][1].zoomTo();\n\tviewergrid_16678264048164194[0][2].addModel(\"11 \\n\\nC \\t1.025075\\t0.098915\\t-0.064230\\nC \\t0.530400\\t-1.293573\\t-0.414267\\nC \\t1.034359\\t-2.334222\\t0.564691\\nF \\t0.533387\\t-2.086055\\t1.800027\\nF \\t0.572710\\t-3.555753\\t0.196737\\nH \\t0.684397\\t0.398952\\t0.931874\\nH \\t0.645820\\t0.828699\\t-0.786376\\nH \\t2.118808\\t0.141717\\t-0.080490\\nH \\t-0.565467\\t-1.297390\\t-0.412936\\nH \\t0.847436\\t-1.559896\\t-1.428476\\nH \\t2.125740\\t-2.371778\\t0.622475\\n\",\"xyz\");\n\tviewergrid_16678264048164194[0][2].setStyle({\"stick\": {\"colorscheme\": \"Jmol\"}});\n\tviewergrid_16678264048164194[0][2].zoomTo();\n\tviewergrid_16678264048164194[1][0].addModel(\"11 \\n\\nC \\t0.940009\\t-0.064085\\t-0.043992\\nC \\t0.449504\\t-1.490389\\t0.139084\\nC \\t0.937742\\t-2.095384\\t1.436261\\nF \\t0.502437\\t-1.390990\\t2.502302\\nF \\t0.485061\\t-3.361668\\t1.568667\\nF \\t2.286170\\t-2.135143\\t1.483864\\nH \\t0.584975\\t0.580924\\t0.766054\\nH \\t0.570752\\t0.344985\\t-0.989658\\nH \\t2.033773\\t-0.023488\\t-0.061115\\nH \\t-0.645769\\t-1.502584\\t0.121367\\nH \\t0.794290\\t-2.103356\\t-0.700844\\n\",\"xyz\");\n\tviewergrid_16678264048164194[1][0].setStyle({\"stick\": {\"colorscheme\": \"Jmol\"}});\n\tviewergrid_16678264048164194[1][0].zoomTo();\n\tviewergrid_16678264048164194[1][1].addModel(\"11 \\n\\nC \\t1.020401\\t-0.018304\\t0.092862\\nC \\t0.484558\\t0.133406\\t1.504659\\nF \\t0.981220\\t1.298119\\t2.016765\\nC \\t-1.035504\\t0.145005\\t1.540549\\nF \\t-1.536356\\t-1.014516\\t1.049000\\nF \\t-1.498454\\t0.271434\\t2.804925\\nF \\t-1.555736\\t1.152353\\t0.805622\\nH \\t0.701063\\t0.818940\\t-0.536301\\nH \\t0.682338\\t-0.952289\\t-0.365659\\nH \\t2.115054\\t-0.010671\\t0.103380\\nH \\t0.860391\\t-0.680346\\t2.132870\\n\",\"xyz\");\n\tviewergrid_16678264048164194[1][1].setStyle({\"stick\": {\"colorscheme\": \"Jmol\"}});\n\tviewergrid_16678264048164194[1][1].zoomTo();\n\tviewergrid_16678264048164194[1][2].addModel(\"11 \\n\\nC \\t1.005844\\t-0.001856\\t-0.115289\\nC \\t0.516110\\t1.383941\\t0.254506\\nF \\t0.931808\\t2.255504\\t-0.707400\\nF \\t-0.845768\\t1.385203\\t0.199918\\nC \\t1.004542\\t1.824505\\t1.634011\\nF \\t0.581957\\t0.977954\\t2.606103\\nF \\t2.359319\\t1.848136\\t1.698899\\nF \\t0.566004\\t3.062274\\t1.962101\\nH \\t0.634055\\t-0.277100\\t-1.107671\\nH \\t0.642345\\t-0.752128\\t0.593465\\nH \\t2.098907\\t-0.038988\\t-0.150020\\n\",\"xyz\");\n\tviewergrid_16678264048164194[1][2].setStyle({\"stick\": {\"colorscheme\": \"Jmol\"}});\n\tviewergrid_16678264048164194[1][2].zoomTo();\nviewergrid_16678264048164194[1][2].render();\nviewergrid_16678264048164194[1][1].render();\nviewergrid_16678264048164194[1][0].render();\nviewergrid_16678264048164194[0][2].render();\nviewergrid_16678264048164194[0][1].render();\nviewergrid_16678264048164194[0][0].render();\n});\n</script>",
            "text/html": [
              "<div id=\"3dmolviewer_16678264048164194\"  style=\"position: relative; width: 900px; height: 600px\">\n",
              "        <p id=\"3dmolwarning_16678264048164194\" style=\"background-color:#ffcccc;color:black\">You appear to be running in JupyterLab (or JavaScript failed to load for some other reason).  You need to install the 3dmol extension: <br>\n",
              "        <tt>jupyter labextension install jupyterlab_3dmol</tt></p>\n",
              "        </div>\n",
              "<script>\n",
              "\n",
              "var loadScriptAsync = function(uri){\n",
              "  return new Promise((resolve, reject) => {\n",
              "    var tag = document.createElement('script');\n",
              "    tag.src = uri;\n",
              "    tag.async = true;\n",
              "    tag.onload = () => {\n",
              "      resolve();\n",
              "    };\n",
              "  var firstScriptTag = document.getElementsByTagName('script')[0];\n",
              "  firstScriptTag.parentNode.insertBefore(tag, firstScriptTag);\n",
              "});\n",
              "};\n",
              "\n",
              "if(typeof $3Dmolpromise === 'undefined') {\n",
              "$3Dmolpromise = null;\n",
              "  $3Dmolpromise = loadScriptAsync('https://cdn.jsdelivr.net/npm/3dmol@latest/build/3Dmol-min.min.js');\n",
              "}\n",
              "\n",
              "var viewer_16678264048164194 = null;\n",
              "var warn = document.getElementById(\"3dmolwarning_16678264048164194\");\n",
              "if(warn) {\n",
              "    warn.parentNode.removeChild(warn);\n",
              "}\n",
              "$3Dmolpromise.then(function() {\n",
              "var viewergrid_16678264048164194 = null;\n",
              "viewergrid_16678264048164194 = $3Dmol.createViewerGrid($(\"#3dmolviewer_16678264048164194\"),{rows: 2, cols: 3, control_all: false},{backgroundColor:\"white\"});\n",
              "viewer_16678264048164194 = viewergrid_16678264048164194[0][0];\n",
              "viewergrid_16678264048164194[0][0].zoomTo();viewergrid_16678264048164194[0][1].zoomTo();viewergrid_16678264048164194[0][2].zoomTo();viewergrid_16678264048164194[1][0].zoomTo();viewergrid_16678264048164194[1][1].zoomTo();viewergrid_16678264048164194[1][2].zoomTo();\tviewergrid_16678264048164194[0][0].addModel(\"11 \\n\\nC \\t1.038258\\t0.081896\\t0.037779\\nC \\t0.545577\\t-1.349656\\t0.165422\\nC \\t1.038044\\t-1.999992\\t1.447182\\nH \\t0.683203\\t0.694913\\t0.872377\\nH \\t0.670979\\t0.527965\\t-0.891750\\nH \\t2.132209\\t0.120600\\t0.024233\\nH \\t-0.549854\\t-1.361327\\t0.148017\\nH \\t0.891276\\t-1.932516\\t-0.695493\\nH \\t0.682966\\t-1.452777\\t2.326320\\nH \\t0.670627\\t-3.028663\\t1.516014\\nH \\t2.131988\\t-2.027084\\t1.478198\\n\",\"xyz\");\n",
              "\tviewergrid_16678264048164194[0][0].setStyle({\"stick\": {\"colorscheme\": \"Jmol\"}});\n",
              "\tviewergrid_16678264048164194[0][0].zoomTo();\n",
              "\tviewergrid_16678264048164194[0][1].addModel(\"11 \\n\\nC \\t0.988098\\t-0.057340\\t-0.078399\\nC \\t0.488624\\t-1.322533\\t-0.757674\\nC \\t0.990751\\t-2.571907\\t-0.056742\\nF \\t0.495561\\t-2.604401\\t1.208841\\nH \\t0.646315\\t-0.006682\\t0.960316\\nH \\t0.612843\\t0.827313\\t-0.602365\\nH \\t2.082017\\t-0.016053\\t-0.082427\\nH \\t-0.606923\\t-1.317431\\t-0.749645\\nH \\t0.816563\\t-1.329716\\t-1.802649\\nH \\t0.647198\\t-3.472435\\t-0.573584\\nH \\t2.082824\\t-2.593478\\t0.002982\\n\",\"xyz\");\n",
              "\tviewergrid_16678264048164194[0][1].setStyle({\"stick\": {\"colorscheme\": \"Jmol\"}});\n",
              "\tviewergrid_16678264048164194[0][1].zoomTo();\n",
              "\tviewergrid_16678264048164194[0][2].addModel(\"11 \\n\\nC \\t1.025075\\t0.098915\\t-0.064230\\nC \\t0.530400\\t-1.293573\\t-0.414267\\nC \\t1.034359\\t-2.334222\\t0.564691\\nF \\t0.533387\\t-2.086055\\t1.800027\\nF \\t0.572710\\t-3.555753\\t0.196737\\nH \\t0.684397\\t0.398952\\t0.931874\\nH \\t0.645820\\t0.828699\\t-0.786376\\nH \\t2.118808\\t0.141717\\t-0.080490\\nH \\t-0.565467\\t-1.297390\\t-0.412936\\nH \\t0.847436\\t-1.559896\\t-1.428476\\nH \\t2.125740\\t-2.371778\\t0.622475\\n\",\"xyz\");\n",
              "\tviewergrid_16678264048164194[0][2].setStyle({\"stick\": {\"colorscheme\": \"Jmol\"}});\n",
              "\tviewergrid_16678264048164194[0][2].zoomTo();\n",
              "\tviewergrid_16678264048164194[1][0].addModel(\"11 \\n\\nC \\t0.940009\\t-0.064085\\t-0.043992\\nC \\t0.449504\\t-1.490389\\t0.139084\\nC \\t0.937742\\t-2.095384\\t1.436261\\nF \\t0.502437\\t-1.390990\\t2.502302\\nF \\t0.485061\\t-3.361668\\t1.568667\\nF \\t2.286170\\t-2.135143\\t1.483864\\nH \\t0.584975\\t0.580924\\t0.766054\\nH \\t0.570752\\t0.344985\\t-0.989658\\nH \\t2.033773\\t-0.023488\\t-0.061115\\nH \\t-0.645769\\t-1.502584\\t0.121367\\nH \\t0.794290\\t-2.103356\\t-0.700844\\n\",\"xyz\");\n",
              "\tviewergrid_16678264048164194[1][0].setStyle({\"stick\": {\"colorscheme\": \"Jmol\"}});\n",
              "\tviewergrid_16678264048164194[1][0].zoomTo();\n",
              "\tviewergrid_16678264048164194[1][1].addModel(\"11 \\n\\nC \\t1.020401\\t-0.018304\\t0.092862\\nC \\t0.484558\\t0.133406\\t1.504659\\nF \\t0.981220\\t1.298119\\t2.016765\\nC \\t-1.035504\\t0.145005\\t1.540549\\nF \\t-1.536356\\t-1.014516\\t1.049000\\nF \\t-1.498454\\t0.271434\\t2.804925\\nF \\t-1.555736\\t1.152353\\t0.805622\\nH \\t0.701063\\t0.818940\\t-0.536301\\nH \\t0.682338\\t-0.952289\\t-0.365659\\nH \\t2.115054\\t-0.010671\\t0.103380\\nH \\t0.860391\\t-0.680346\\t2.132870\\n\",\"xyz\");\n",
              "\tviewergrid_16678264048164194[1][1].setStyle({\"stick\": {\"colorscheme\": \"Jmol\"}});\n",
              "\tviewergrid_16678264048164194[1][1].zoomTo();\n",
              "\tviewergrid_16678264048164194[1][2].addModel(\"11 \\n\\nC \\t1.005844\\t-0.001856\\t-0.115289\\nC \\t0.516110\\t1.383941\\t0.254506\\nF \\t0.931808\\t2.255504\\t-0.707400\\nF \\t-0.845768\\t1.385203\\t0.199918\\nC \\t1.004542\\t1.824505\\t1.634011\\nF \\t0.581957\\t0.977954\\t2.606103\\nF \\t2.359319\\t1.848136\\t1.698899\\nF \\t0.566004\\t3.062274\\t1.962101\\nH \\t0.634055\\t-0.277100\\t-1.107671\\nH \\t0.642345\\t-0.752128\\t0.593465\\nH \\t2.098907\\t-0.038988\\t-0.150020\\n\",\"xyz\");\n",
              "\tviewergrid_16678264048164194[1][2].setStyle({\"stick\": {\"colorscheme\": \"Jmol\"}});\n",
              "\tviewergrid_16678264048164194[1][2].zoomTo();\n",
              "viewergrid_16678264048164194[1][2].render();\n",
              "viewergrid_16678264048164194[1][1].render();\n",
              "viewergrid_16678264048164194[1][0].render();\n",
              "viewergrid_16678264048164194[0][2].render();\n",
              "viewergrid_16678264048164194[0][1].render();\n",
              "viewergrid_16678264048164194[0][0].render();\n",
              "});\n",
              "</script>"
            ]
          },
          "metadata": {}
        }
      ]
    }
  ]
}