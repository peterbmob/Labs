{
  "nbformat": 4,
  "nbformat_minor": 0,
  "metadata": {
    "colab": {
      "provenance": [],
      "authorship_tag": "ABX9TyO12SUUr3tPgU6FTkm409/i",
      "include_colab_link": true
    },
    "kernelspec": {
      "name": "python3",
      "display_name": "Python 3"
    },
    "language_info": {
      "name": "python"
    }
  },
  "cells": [
    {
      "cell_type": "markdown",
      "metadata": {
        "id": "view-in-github",
        "colab_type": "text"
      },
      "source": [
        "<a href=\"https://colab.research.google.com/github/peterbmob/Labs/blob/main/smile2vsepr.ipynb\" target=\"_parent\"><img src=\"https://colab.research.google.com/assets/colab-badge.svg\" alt=\"Open In Colab\"/></a>"
      ]
    },
    {
      "cell_type": "code",
      "execution_count": null,
      "metadata": {
        "cellView": "form",
        "id": "YWdo-TWZgIkr"
      },
      "outputs": [],
      "source": [
        "#@title  Installera Condacolab (kernel kraschar en gång, det är bara att ändå gå vidare till nästa cell)\n",
        "!pip install -q condacolab\n",
        "import condacolab\n",
        "condacolab.install()"
      ]
    },
    {
      "cell_type": "code",
      "source": [
        "#@title  Installera Openbabel, molSimplify och py3dmol\n",
        "%%capture\n",
        "!conda install openbabel -c conda-forge \n",
        "!conda install -c hjkgroup molSimplify\n",
        "!conda install -c conda-forge py3dmol\n"
      ],
      "metadata": {
        "cellView": "form",
        "id": "UqTdmAJNmnmr"
      },
      "execution_count": null,
      "outputs": []
    },
    {
      "cell_type": "code",
      "source": [
        "#@title  Ladda növändiga moduler\n",
        "from molSimplify.Classes.mol3D import mol3D\n",
        "from molSimplify.Informatics.jupyter_vis import view_structures"
      ],
      "metadata": {
        "id": "MHFSrUGEgn66"
      },
      "execution_count": null,
      "outputs": []
    },
    {
      "cell_type": "code",
      "source": [
        "#@title  Ange smilesträng för den molekyl du vill visualisera\n",
        "molekyl='CCCCCCCCCC' \n"
      ],
      "metadata": {
        "id": "sVxjl9wS5Moo"
      },
      "execution_count": null,
      "outputs": []
    },
    {
      "cell_type": "code",
      "source": [
        "#@title  Visualisera molekylen\n",
        "mol = mol3D()          # create a mol3D object\n",
        "mol.read_smiles(molekyl) # read SMILES string into the mol3D object\n",
        "#print(mol.writexyz('', writestring=True)) # Print the xyz file corresponding to pro\n",
        "view_structures([mol])"
      ],
      "metadata": {
        "colab": {
          "base_uri": "https://localhost:8080/",
          "height": 417
        },
        "cellView": "form",
        "id": "baTBJuujgpjG",
        "outputId": "ad4dfdfb-5209-4500-a1ee-ab71b556a987"
      },
      "execution_count": null,
      "outputs": [
        {
          "output_type": "display_data",
          "data": {
            "application/3dmoljs_load.v0": "<div id=\"3dmolviewer_16678214338998723\"  style=\"position: relative; width: 400px; height: 400px\">\n        <p id=\"3dmolwarning_16678214338998723\" style=\"background-color:#ffcccc;color:black\">You appear to be running in JupyterLab (or JavaScript failed to load for some other reason).  You need to install the 3dmol extension: <br>\n        <tt>jupyter labextension install jupyterlab_3dmol</tt></p>\n        </div>\n<script>\n\nvar loadScriptAsync = function(uri){\n  return new Promise((resolve, reject) => {\n    var tag = document.createElement('script');\n    tag.src = uri;\n    tag.async = true;\n    tag.onload = () => {\n      resolve();\n    };\n  var firstScriptTag = document.getElementsByTagName('script')[0];\n  firstScriptTag.parentNode.insertBefore(tag, firstScriptTag);\n});\n};\n\nif(typeof $3Dmolpromise === 'undefined') {\n$3Dmolpromise = null;\n  $3Dmolpromise = loadScriptAsync('https://cdn.jsdelivr.net/npm/3dmol@latest/build/3Dmol-min.min.js');\n}\n\nvar viewer_16678214338998723 = null;\nvar warn = document.getElementById(\"3dmolwarning_16678214338998723\");\nif(warn) {\n    warn.parentNode.removeChild(warn);\n}\n$3Dmolpromise.then(function() {\nviewer_16678214338998723 = $3Dmol.createViewer($(\"#3dmolviewer_16678214338998723\"),{backgroundColor:\"white\"});\nviewer_16678214338998723.zoomTo();\n\tviewer_16678214338998723.addModel(\"32 \\n\\nC \\t1.009687\\t0.291736\\t-0.120515\\nC \\t0.808786\\t-0.933241\\t-0.998933\\nC \\t1.222339\\t-2.243315\\t-0.324153\\nC \\t0.464312\\t-2.594453\\t0.960387\\nC \\t-1.058357\\t-2.694206\\t0.823735\\nC \\t-1.563737\\t-3.708997\\t-0.206871\\nC \\t-1.112326\\t-5.156097\\t0.015115\\nC \\t-1.490019\\t-5.766775\\t1.368766\\nC \\t-2.984995\\t-5.774188\\t1.696899\\nC \\t-3.820538\\t-6.565960\\t0.703140\\nH \\t0.345303\\t0.275828\\t0.748363\\nH \\t0.789947\\t1.201333\\t-0.688710\\nH \\t2.043191\\t0.355688\\t0.234195\\nH \\t-0.235918\\t-0.982853\\t-1.324338\\nH \\t1.409547\\t-0.810631\\t-1.908364\\nH \\t1.111920\\t-3.059324\\t-1.047903\\nH \\t2.292948\\t-2.195334\\t-0.087692\\nH \\t0.857663\\t-3.542783\\t1.345563\\nH \\t0.694344\\t-1.849017\\t1.731149\\nH \\t-1.478639\\t-2.935357\\t1.807380\\nH \\t-1.464638\\t-1.708633\\t0.566976\\nH \\t-2.659456\\t-3.669457\\t-0.222935\\nH \\t-1.246218\\t-3.397710\\t-1.209168\\nH \\t-1.527476\\t-5.775213\\t-0.789273\\nH \\t-0.023777\\t-5.219185\\t-0.100850\\nH \\t-1.118443\\t-6.799107\\t1.394327\\nH \\t-0.959188\\t-5.237702\\t2.168864\\nH \\t-3.116227\\t-6.217336\\t2.691582\\nH \\t-3.367967\\t-4.750148\\t1.762986\\nH \\t-3.447225\\t-7.590089\\t0.603884\\nH \\t-4.860143\\t-6.616065\\t1.042575\\nH \\t-3.817612\\t-6.098530\\t-0.285860\\n\",\"xyz\");\n\tviewer_16678214338998723.setStyle({\"stick\": {\"colorscheme\": \"Jmol\"}});\n\tviewer_16678214338998723.zoomTo();\nviewer_16678214338998723.render();\n});\n</script>",
            "text/html": [
              "<div id=\"3dmolviewer_16678214338998723\"  style=\"position: relative; width: 400px; height: 400px\">\n",
              "        <p id=\"3dmolwarning_16678214338998723\" style=\"background-color:#ffcccc;color:black\">You appear to be running in JupyterLab (or JavaScript failed to load for some other reason).  You need to install the 3dmol extension: <br>\n",
              "        <tt>jupyter labextension install jupyterlab_3dmol</tt></p>\n",
              "        </div>\n",
              "<script>\n",
              "\n",
              "var loadScriptAsync = function(uri){\n",
              "  return new Promise((resolve, reject) => {\n",
              "    var tag = document.createElement('script');\n",
              "    tag.src = uri;\n",
              "    tag.async = true;\n",
              "    tag.onload = () => {\n",
              "      resolve();\n",
              "    };\n",
              "  var firstScriptTag = document.getElementsByTagName('script')[0];\n",
              "  firstScriptTag.parentNode.insertBefore(tag, firstScriptTag);\n",
              "});\n",
              "};\n",
              "\n",
              "if(typeof $3Dmolpromise === 'undefined') {\n",
              "$3Dmolpromise = null;\n",
              "  $3Dmolpromise = loadScriptAsync('https://cdn.jsdelivr.net/npm/3dmol@latest/build/3Dmol-min.min.js');\n",
              "}\n",
              "\n",
              "var viewer_16678214338998723 = null;\n",
              "var warn = document.getElementById(\"3dmolwarning_16678214338998723\");\n",
              "if(warn) {\n",
              "    warn.parentNode.removeChild(warn);\n",
              "}\n",
              "$3Dmolpromise.then(function() {\n",
              "viewer_16678214338998723 = $3Dmol.createViewer($(\"#3dmolviewer_16678214338998723\"),{backgroundColor:\"white\"});\n",
              "viewer_16678214338998723.zoomTo();\n",
              "\tviewer_16678214338998723.addModel(\"32 \\n\\nC \\t1.009687\\t0.291736\\t-0.120515\\nC \\t0.808786\\t-0.933241\\t-0.998933\\nC \\t1.222339\\t-2.243315\\t-0.324153\\nC \\t0.464312\\t-2.594453\\t0.960387\\nC \\t-1.058357\\t-2.694206\\t0.823735\\nC \\t-1.563737\\t-3.708997\\t-0.206871\\nC \\t-1.112326\\t-5.156097\\t0.015115\\nC \\t-1.490019\\t-5.766775\\t1.368766\\nC \\t-2.984995\\t-5.774188\\t1.696899\\nC \\t-3.820538\\t-6.565960\\t0.703140\\nH \\t0.345303\\t0.275828\\t0.748363\\nH \\t0.789947\\t1.201333\\t-0.688710\\nH \\t2.043191\\t0.355688\\t0.234195\\nH \\t-0.235918\\t-0.982853\\t-1.324338\\nH \\t1.409547\\t-0.810631\\t-1.908364\\nH \\t1.111920\\t-3.059324\\t-1.047903\\nH \\t2.292948\\t-2.195334\\t-0.087692\\nH \\t0.857663\\t-3.542783\\t1.345563\\nH \\t0.694344\\t-1.849017\\t1.731149\\nH \\t-1.478639\\t-2.935357\\t1.807380\\nH \\t-1.464638\\t-1.708633\\t0.566976\\nH \\t-2.659456\\t-3.669457\\t-0.222935\\nH \\t-1.246218\\t-3.397710\\t-1.209168\\nH \\t-1.527476\\t-5.775213\\t-0.789273\\nH \\t-0.023777\\t-5.219185\\t-0.100850\\nH \\t-1.118443\\t-6.799107\\t1.394327\\nH \\t-0.959188\\t-5.237702\\t2.168864\\nH \\t-3.116227\\t-6.217336\\t2.691582\\nH \\t-3.367967\\t-4.750148\\t1.762986\\nH \\t-3.447225\\t-7.590089\\t0.603884\\nH \\t-4.860143\\t-6.616065\\t1.042575\\nH \\t-3.817612\\t-6.098530\\t-0.285860\\n\",\"xyz\");\n",
              "\tviewer_16678214338998723.setStyle({\"stick\": {\"colorscheme\": \"Jmol\"}});\n",
              "\tviewer_16678214338998723.zoomTo();\n",
              "viewer_16678214338998723.render();\n",
              "});\n",
              "</script>"
            ]
          },
          "metadata": {}
        }
      ]
    },
    {
      "cell_type": "code",
      "source": [
        "#@title  Funkar även att ange flera smilesträngar\n",
        "smiles_strings = ['CCC', 'CCC(F)', 'CCC(F)(F)', 'CCC(F)(F)(F)', 'CC(F)C(F)(F)(F)', 'CC(F)(F)C(F)(F)(F)']\n",
        "mol3Ds = []\n",
        "for smiles_string in smiles_strings:\n",
        "    mymol = mol3D()\n",
        "    mymol.read_smiles(smiles_string)\n",
        "    mol3Ds += [mymol]\n",
        "view_structures(mol3Ds, w=300, h=300, columns=3)"
      ],
      "metadata": {
        "colab": {
          "base_uri": "https://localhost:8080/",
          "height": 617
        },
        "id": "E6caQ_vYgtVJ",
        "outputId": "cb6df9d3-0a87-4f5a-e07c-9e60820aad5d"
      },
      "execution_count": null,
      "outputs": [
        {
          "output_type": "display_data",
          "data": {
            "application/3dmoljs_load.v0": "<div id=\"3dmolviewer_16678215680763676\"  style=\"position: relative; width: 900px; height: 600px\">\n        <p id=\"3dmolwarning_16678215680763676\" style=\"background-color:#ffcccc;color:black\">You appear to be running in JupyterLab (or JavaScript failed to load for some other reason).  You need to install the 3dmol extension: <br>\n        <tt>jupyter labextension install jupyterlab_3dmol</tt></p>\n        </div>\n<script>\n\nvar loadScriptAsync = function(uri){\n  return new Promise((resolve, reject) => {\n    var tag = document.createElement('script');\n    tag.src = uri;\n    tag.async = true;\n    tag.onload = () => {\n      resolve();\n    };\n  var firstScriptTag = document.getElementsByTagName('script')[0];\n  firstScriptTag.parentNode.insertBefore(tag, firstScriptTag);\n});\n};\n\nif(typeof $3Dmolpromise === 'undefined') {\n$3Dmolpromise = null;\n  $3Dmolpromise = loadScriptAsync('https://cdn.jsdelivr.net/npm/3dmol@latest/build/3Dmol-min.min.js');\n}\n\nvar viewer_16678215680763676 = null;\nvar warn = document.getElementById(\"3dmolwarning_16678215680763676\");\nif(warn) {\n    warn.parentNode.removeChild(warn);\n}\n$3Dmolpromise.then(function() {\nvar viewergrid_16678215680763676 = null;\nviewergrid_16678215680763676 = $3Dmol.createViewerGrid($(\"#3dmolviewer_16678215680763676\"),{rows: 2, cols: 3, control_all: false},{backgroundColor:\"white\"});\nviewer_16678215680763676 = viewergrid_16678215680763676[0][0];\nviewergrid_16678215680763676[0][0].zoomTo();viewergrid_16678215680763676[0][1].zoomTo();viewergrid_16678215680763676[0][2].zoomTo();viewergrid_16678215680763676[1][0].zoomTo();viewergrid_16678215680763676[1][1].zoomTo();viewergrid_16678215680763676[1][2].zoomTo();\tviewergrid_16678215680763676[0][0].addModel(\"11 \\n\\nC \\t1.019322\\t-0.093350\\t0.057190\\nC \\t0.526912\\t0.482278\\t1.374214\\nC \\t1.019249\\t1.904285\\t1.583666\\nH \\t0.663965\\t0.503297\\t-0.789062\\nH \\t0.652144\\t-1.116473\\t-0.070470\\nH \\t2.113268\\t-0.118343\\t0.024504\\nH \\t-0.568513\\t0.469337\\t1.391097\\nH \\t0.872911\\t-0.148903\\t2.200232\\nH \\t0.663885\\t2.564063\\t0.785656\\nH \\t0.652020\\t2.296214\\t2.537308\\nH \\t2.113191\\t1.942440\\t1.599230\\n\",\"xyz\");\n\tviewergrid_16678215680763676[0][0].setStyle({\"stick\": {\"colorscheme\": \"Jmol\"}});\n\tviewergrid_16678215680763676[0][0].zoomTo();\n\tviewergrid_16678215680763676[0][1].addModel(\"11 \\n\\nC \\t1.003993\\t-0.081413\\t0.083732\\nC \\t0.504293\\t1.187509\\t0.755845\\nC \\t1.006295\\t2.432992\\t0.047933\\nF \\t0.511191\\t2.458300\\t-1.217847\\nH \\t0.662294\\t-0.137959\\t-0.954707\\nH \\t0.628823\\t-0.963158\\t0.612637\\nH \\t2.097918\\t-0.122523\\t0.088072\\nH \\t-0.591253\\t1.182209\\t0.747766\\nH \\t0.832155\\t1.200616\\t1.800786\\nH \\t0.662580\\t3.336365\\t0.559680\\nH \\t2.098370\\t2.454381\\t-0.011833\\n\",\"xyz\");\n\tviewergrid_16678215680763676[0][1].setStyle({\"stick\": {\"colorscheme\": \"Jmol\"}});\n\tviewergrid_16678215680763676[0][1].zoomTo();\n\tviewergrid_16678215680763676[0][2].addModel(\"11 \\n\\nC \\t0.954544\\t-0.066717\\t0.049001\\nC \\t0.460043\\t0.342696\\t-1.327264\\nC \\t0.964050\\t-0.590814\\t-2.408847\\nF \\t0.462963\\t-1.835611\\t-2.213891\\nF \\t0.502561\\t-0.170826\\t-3.613541\\nH \\t0.613771\\t-1.074739\\t0.306045\\nH \\t0.575253\\t0.623523\\t0.809015\\nH \\t2.048273\\t-0.052377\\t0.092576\\nH \\t-0.635823\\t0.341608\\t-1.331251\\nH \\t0.777178\\t1.367361\\t-1.549855\\nH \\t2.055430\\t-0.647017\\t-2.448728\\n\",\"xyz\");\n\tviewergrid_16678215680763676[0][2].setStyle({\"stick\": {\"colorscheme\": \"Jmol\"}});\n\tviewergrid_16678215680763676[0][2].zoomTo();\n\tviewergrid_16678215680763676[1][0].addModel(\"11 \\n\\nC \\t1.005958\\t0.109952\\t0.041542\\nC \\t0.515417\\t0.204296\\t-1.393353\\nC \\t1.003671\\t-0.952469\\t-2.236305\\nF \\t0.568414\\t-2.133993\\t-1.749833\\nF \\t0.550957\\t-0.839142\\t-3.504427\\nF \\t2.352099\\t-0.991505\\t-2.284500\\nH \\t0.650966\\t-0.808937\\t0.518915\\nH \\t0.636684\\t0.959397\\t0.624683\\nH \\t2.099722\\t0.118994\\t0.084647\\nH \\t-0.579857\\t0.223992\\t-1.401893\\nH \\t0.860165\\t1.146352\\t-1.833541\\n\",\"xyz\");\n\tviewergrid_16678215680763676[1][0].setStyle({\"stick\": {\"colorscheme\": \"Jmol\"}});\n\tviewergrid_16678215680763676[1][0].zoomTo();\n\tviewergrid_16678215680763676[1][1].addModel(\"11 \\n\\nC \\t0.966227\\t-0.047890\\t0.064543\\nC \\t0.430337\\t-1.031812\\t-0.959192\\nF \\t0.927011\\t-2.266367\\t-0.651508\\nC \\t-1.089726\\t-1.062946\\t-0.980412\\nF \\t-1.590591\\t0.154923\\t-1.301179\\nF \\t-1.552719\\t-1.936661\\t-1.903024\\nF \\t-1.609905\\t-1.409930\\t0.217305\\nH \\t0.646938\\t-0.325064\\t1.074509\\nH \\t0.628152\\t0.971389\\t-0.144334\\nH \\t2.060880\\t-0.060362\\t0.060843\\nH \\t0.806125\\t-0.772639\\t-1.954031\\n\",\"xyz\");\n\tviewergrid_16678215680763676[1][1].setStyle({\"stick\": {\"colorscheme\": \"Jmol\"}});\n\tviewergrid_16678215680763676[1][1].zoomTo();\n\tviewergrid_16678215680763676[1][2].addModel(\"11 \\n\\nC \\t1.075031\\t0.057320\\t0.052796\\nC \\t0.585287\\t-1.134220\\t0.851172\\nF \\t1.001047\\t-0.985395\\t2.140623\\nF \\t-0.776588\\t-1.093949\\t0.888164\\nC \\t1.073641\\t-2.462027\\t0.273128\\nF \\t0.650999\\t-2.634998\\t-1.004231\\nF \\t2.428415\\t-2.526456\\t0.248073\\nF \\t0.635087\\t-3.524629\\t0.987675\\nH \\t0.703308\\t0.985032\\t0.499987\\nH \\t0.711472\\t0.018919\\t-0.978573\\nH \\t2.168096\\t0.107867\\t0.047707\\n\",\"xyz\");\n\tviewergrid_16678215680763676[1][2].setStyle({\"stick\": {\"colorscheme\": \"Jmol\"}});\n\tviewergrid_16678215680763676[1][2].zoomTo();\nviewergrid_16678215680763676[1][2].render();\nviewergrid_16678215680763676[1][1].render();\nviewergrid_16678215680763676[1][0].render();\nviewergrid_16678215680763676[0][2].render();\nviewergrid_16678215680763676[0][1].render();\nviewergrid_16678215680763676[0][0].render();\n});\n</script>",
            "text/html": [
              "<div id=\"3dmolviewer_16678215680763676\"  style=\"position: relative; width: 900px; height: 600px\">\n",
              "        <p id=\"3dmolwarning_16678215680763676\" style=\"background-color:#ffcccc;color:black\">You appear to be running in JupyterLab (or JavaScript failed to load for some other reason).  You need to install the 3dmol extension: <br>\n",
              "        <tt>jupyter labextension install jupyterlab_3dmol</tt></p>\n",
              "        </div>\n",
              "<script>\n",
              "\n",
              "var loadScriptAsync = function(uri){\n",
              "  return new Promise((resolve, reject) => {\n",
              "    var tag = document.createElement('script');\n",
              "    tag.src = uri;\n",
              "    tag.async = true;\n",
              "    tag.onload = () => {\n",
              "      resolve();\n",
              "    };\n",
              "  var firstScriptTag = document.getElementsByTagName('script')[0];\n",
              "  firstScriptTag.parentNode.insertBefore(tag, firstScriptTag);\n",
              "});\n",
              "};\n",
              "\n",
              "if(typeof $3Dmolpromise === 'undefined') {\n",
              "$3Dmolpromise = null;\n",
              "  $3Dmolpromise = loadScriptAsync('https://cdn.jsdelivr.net/npm/3dmol@latest/build/3Dmol-min.min.js');\n",
              "}\n",
              "\n",
              "var viewer_16678215680763676 = null;\n",
              "var warn = document.getElementById(\"3dmolwarning_16678215680763676\");\n",
              "if(warn) {\n",
              "    warn.parentNode.removeChild(warn);\n",
              "}\n",
              "$3Dmolpromise.then(function() {\n",
              "var viewergrid_16678215680763676 = null;\n",
              "viewergrid_16678215680763676 = $3Dmol.createViewerGrid($(\"#3dmolviewer_16678215680763676\"),{rows: 2, cols: 3, control_all: false},{backgroundColor:\"white\"});\n",
              "viewer_16678215680763676 = viewergrid_16678215680763676[0][0];\n",
              "viewergrid_16678215680763676[0][0].zoomTo();viewergrid_16678215680763676[0][1].zoomTo();viewergrid_16678215680763676[0][2].zoomTo();viewergrid_16678215680763676[1][0].zoomTo();viewergrid_16678215680763676[1][1].zoomTo();viewergrid_16678215680763676[1][2].zoomTo();\tviewergrid_16678215680763676[0][0].addModel(\"11 \\n\\nC \\t1.019322\\t-0.093350\\t0.057190\\nC \\t0.526912\\t0.482278\\t1.374214\\nC \\t1.019249\\t1.904285\\t1.583666\\nH \\t0.663965\\t0.503297\\t-0.789062\\nH \\t0.652144\\t-1.116473\\t-0.070470\\nH \\t2.113268\\t-0.118343\\t0.024504\\nH \\t-0.568513\\t0.469337\\t1.391097\\nH \\t0.872911\\t-0.148903\\t2.200232\\nH \\t0.663885\\t2.564063\\t0.785656\\nH \\t0.652020\\t2.296214\\t2.537308\\nH \\t2.113191\\t1.942440\\t1.599230\\n\",\"xyz\");\n",
              "\tviewergrid_16678215680763676[0][0].setStyle({\"stick\": {\"colorscheme\": \"Jmol\"}});\n",
              "\tviewergrid_16678215680763676[0][0].zoomTo();\n",
              "\tviewergrid_16678215680763676[0][1].addModel(\"11 \\n\\nC \\t1.003993\\t-0.081413\\t0.083732\\nC \\t0.504293\\t1.187509\\t0.755845\\nC \\t1.006295\\t2.432992\\t0.047933\\nF \\t0.511191\\t2.458300\\t-1.217847\\nH \\t0.662294\\t-0.137959\\t-0.954707\\nH \\t0.628823\\t-0.963158\\t0.612637\\nH \\t2.097918\\t-0.122523\\t0.088072\\nH \\t-0.591253\\t1.182209\\t0.747766\\nH \\t0.832155\\t1.200616\\t1.800786\\nH \\t0.662580\\t3.336365\\t0.559680\\nH \\t2.098370\\t2.454381\\t-0.011833\\n\",\"xyz\");\n",
              "\tviewergrid_16678215680763676[0][1].setStyle({\"stick\": {\"colorscheme\": \"Jmol\"}});\n",
              "\tviewergrid_16678215680763676[0][1].zoomTo();\n",
              "\tviewergrid_16678215680763676[0][2].addModel(\"11 \\n\\nC \\t0.954544\\t-0.066717\\t0.049001\\nC \\t0.460043\\t0.342696\\t-1.327264\\nC \\t0.964050\\t-0.590814\\t-2.408847\\nF \\t0.462963\\t-1.835611\\t-2.213891\\nF \\t0.502561\\t-0.170826\\t-3.613541\\nH \\t0.613771\\t-1.074739\\t0.306045\\nH \\t0.575253\\t0.623523\\t0.809015\\nH \\t2.048273\\t-0.052377\\t0.092576\\nH \\t-0.635823\\t0.341608\\t-1.331251\\nH \\t0.777178\\t1.367361\\t-1.549855\\nH \\t2.055430\\t-0.647017\\t-2.448728\\n\",\"xyz\");\n",
              "\tviewergrid_16678215680763676[0][2].setStyle({\"stick\": {\"colorscheme\": \"Jmol\"}});\n",
              "\tviewergrid_16678215680763676[0][2].zoomTo();\n",
              "\tviewergrid_16678215680763676[1][0].addModel(\"11 \\n\\nC \\t1.005958\\t0.109952\\t0.041542\\nC \\t0.515417\\t0.204296\\t-1.393353\\nC \\t1.003671\\t-0.952469\\t-2.236305\\nF \\t0.568414\\t-2.133993\\t-1.749833\\nF \\t0.550957\\t-0.839142\\t-3.504427\\nF \\t2.352099\\t-0.991505\\t-2.284500\\nH \\t0.650966\\t-0.808937\\t0.518915\\nH \\t0.636684\\t0.959397\\t0.624683\\nH \\t2.099722\\t0.118994\\t0.084647\\nH \\t-0.579857\\t0.223992\\t-1.401893\\nH \\t0.860165\\t1.146352\\t-1.833541\\n\",\"xyz\");\n",
              "\tviewergrid_16678215680763676[1][0].setStyle({\"stick\": {\"colorscheme\": \"Jmol\"}});\n",
              "\tviewergrid_16678215680763676[1][0].zoomTo();\n",
              "\tviewergrid_16678215680763676[1][1].addModel(\"11 \\n\\nC \\t0.966227\\t-0.047890\\t0.064543\\nC \\t0.430337\\t-1.031812\\t-0.959192\\nF \\t0.927011\\t-2.266367\\t-0.651508\\nC \\t-1.089726\\t-1.062946\\t-0.980412\\nF \\t-1.590591\\t0.154923\\t-1.301179\\nF \\t-1.552719\\t-1.936661\\t-1.903024\\nF \\t-1.609905\\t-1.409930\\t0.217305\\nH \\t0.646938\\t-0.325064\\t1.074509\\nH \\t0.628152\\t0.971389\\t-0.144334\\nH \\t2.060880\\t-0.060362\\t0.060843\\nH \\t0.806125\\t-0.772639\\t-1.954031\\n\",\"xyz\");\n",
              "\tviewergrid_16678215680763676[1][1].setStyle({\"stick\": {\"colorscheme\": \"Jmol\"}});\n",
              "\tviewergrid_16678215680763676[1][1].zoomTo();\n",
              "\tviewergrid_16678215680763676[1][2].addModel(\"11 \\n\\nC \\t1.075031\\t0.057320\\t0.052796\\nC \\t0.585287\\t-1.134220\\t0.851172\\nF \\t1.001047\\t-0.985395\\t2.140623\\nF \\t-0.776588\\t-1.093949\\t0.888164\\nC \\t1.073641\\t-2.462027\\t0.273128\\nF \\t0.650999\\t-2.634998\\t-1.004231\\nF \\t2.428415\\t-2.526456\\t0.248073\\nF \\t0.635087\\t-3.524629\\t0.987675\\nH \\t0.703308\\t0.985032\\t0.499987\\nH \\t0.711472\\t0.018919\\t-0.978573\\nH \\t2.168096\\t0.107867\\t0.047707\\n\",\"xyz\");\n",
              "\tviewergrid_16678215680763676[1][2].setStyle({\"stick\": {\"colorscheme\": \"Jmol\"}});\n",
              "\tviewergrid_16678215680763676[1][2].zoomTo();\n",
              "viewergrid_16678215680763676[1][2].render();\n",
              "viewergrid_16678215680763676[1][1].render();\n",
              "viewergrid_16678215680763676[1][0].render();\n",
              "viewergrid_16678215680763676[0][2].render();\n",
              "viewergrid_16678215680763676[0][1].render();\n",
              "viewergrid_16678215680763676[0][0].render();\n",
              "});\n",
              "</script>"
            ]
          },
          "metadata": {}
        }
      ]
    }
  ]
}