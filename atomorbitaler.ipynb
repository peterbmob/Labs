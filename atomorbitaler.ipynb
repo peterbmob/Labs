{
  "nbformat": 4,
  "nbformat_minor": 0,
  "metadata": {
    "colab": {
      "provenance": [],
      "authorship_tag": "ABX9TyNPs8imk1pI8cx/IbJJgsBy",
      "include_colab_link": true
    },
    "kernelspec": {
      "name": "python3",
      "display_name": "Python 3"
    },
    "language_info": {
      "name": "python"
    }
  },
  "cells": [
    {
      "cell_type": "markdown",
      "metadata": {
        "id": "view-in-github",
        "colab_type": "text"
      },
      "source": [
        "<a href=\"https://colab.research.google.com/github/peterbmob/Labs/blob/main/atomorbitaler.ipynb\" target=\"_parent\"><img src=\"https://colab.research.google.com/assets/colab-badge.svg\" alt=\"Open In Colab\"/></a>"
      ]
    },
    {
      "cell_type": "code",
      "source": [
        "# installera nödvändiga paket till tdin pythonmiljö\n",
        "%%capture\n",
        "!pip install ipyvolume "
      ],
      "metadata": {
        "id": "pGPMtWwpcME4"
      },
      "execution_count": null,
      "outputs": []
    },
    {
      "cell_type": "markdown",
      "source": [
        "# Atomorbitaler\n",
        "\n",
        "Noter: \n",
        "\n",
        "- sannolikhetstätheten som funktion av avstånd från kärnan följer $r^2R(r)^2$ där R är den radiella delen av vågfunktionen\n",
        "- vi använder oss av den reella delen av lösningen till klotytfuntkionsproblemet (eng: \"spherical harmonics\") \n",
        "- atomära enheter används \n",
        "\n",
        "Radiella delen av vågfuntionen i atomära enheter kan uttryckas genom ett Laguerreplynom (https://en.wikipedia.org/wiki/Laguerre_polynomials?msclkid=19870a90a9df11ec8ff3feef8ed08262) \n",
        "\n",
        "\n",
        "$R_{nl}(r) = \\sqrt{\\Big(\\frac{2}{n a_0}\\Big)^3 \\frac{(n-l-1)!}{2n (n+l)!}} e^{-r/n a_0} \\Big( \\frac{2r}{na_0}\\Big)^l  \\cdot L^{2l+1}_{n-l-1} \\Big(\\frac{2r}{n a_0} \\Big)$\n",
        "\n",
        "I nedanstående cell defineras denna genom psi_R. \n",
        "\n",
        "För att plotta vågfunktionens utbredning i rummet och eventuella vinkelnoder behöver vi även den vinkelberodende delen \n",
        "\n",
        "$Y_{lm}(\\theta,\\phi) = \\Theta_{lm}(\\theta) \\Phi_m (\\phi) = \\sqrt{\\frac{2l+1}{4\\pi} \\frac{(l-m)!}{(l+m)!} } P_{lm}(cos \\theta) \\cdot e^{im\\phi}$\n",
        "\n",
        "den defineras i cellen nedan genom ps_ang. \n",
        "\n",
        "Tillsammans fås den totala vågfunktionen som: \n",
        "\n",
        "$\\Psi(r,\\theta,\\phi) =  R_{nl}(r)Y_{lm}(\\theta,\\phi)$"
      ],
      "metadata": {
        "id": "ZB8gA-2lcegq"
      }
    },
    {
      "cell_type": "markdown",
      "source": [
        "### steg 1: ladda in relevanta paket som behövs samt definera hur vi räknar ut $R_{nl}(r)$ och $Y_{lm}(\\theta,\\phi)$"
      ],
      "metadata": {
        "id": "0JUlUTysdBY2"
      }
    },
    {
      "cell_type": "code",
      "source": [
        "\n",
        "import matplotlib.pyplot as plt\n",
        "\n",
        "from matplotlib import cm, colors\n",
        "from mpl_toolkits.mplot3d import Axes3D\n",
        "\n",
        "import numpy as np\n",
        "import scipy.integrate as integrate\n",
        "\n",
        "# Increase resolution for retina display\n",
        "from IPython.display import set_matplotlib_formats\n",
        "set_matplotlib_formats('retina')\n",
        "\n",
        "# Load interactive widgets\n",
        "import ipywidgets as widgets\n",
        "\n",
        "import ipyvolume as ipv\n",
        "\n",
        "# Import special functions \n",
        "import scipy.special as spe\n",
        "\n",
        "import warnings\n",
        "warnings.filterwarnings('ignore')\n",
        "\n",
        "def psi_R(r,n=1,l=0):\n",
        "\n",
        "    coeff = np.sqrt((2.0/n)**3 * spe.factorial(n-l-1) /(2.0*n*spe.factorial(n+l)))\n",
        "    \n",
        "    laguerre = spe.assoc_laguerre(2.0*r/n,n-l-1,2*l+1)\n",
        "    \n",
        "    return coeff * np.exp(-r/n) * (2.0*r/n)**l * laguerre\n",
        "\n",
        "\n",
        "def psi_ang(phi,theta,l=0,m=0):\n",
        "    \n",
        "    sphHarm = spe.sph_harm(m,l,phi,theta)\n",
        "    \n",
        "    return sphHarm.real"
      ],
      "metadata": {
        "id": "yeDQ_B9rdEnV"
      },
      "execution_count": null,
      "outputs": []
    },
    {
      "cell_type": "markdown",
      "source": [
        "### Steg 2: välj kvanttal och bikvvantal för att plotta $R_{nl}(r)$, $R_{nl}(r)^2$ samt $r^2R_{nl}(r)^2$ "
      ],
      "metadata": {
        "id": "8dHNZHQodJpJ"
      }
    },
    {
      "cell_type": "code",
      "source": [
        "# välj huvudkvanttal \n",
        "n = 4  \n",
        "# bikvanttal \n",
        "l=1\n",
        "\n",
        "r = np.linspace(0,30,1000) # skapa en vektpr med r-värden\n",
        "R = psi_R(r,n,l) # kalla på psi_R definerad ovan och fyll på R-vektorn \n",
        "\n",
        "\n",
        "# plotta data för de olika fallen\n",
        "%matplotlib inline\n",
        "plt.subplots(figsize=(10, 10)) # initiera \n",
        "\n",
        "ax1=plt.subplot(311)\n",
        "plt.plot(r, R, lw=3, axes=ax1)\n",
        "\n",
        "plt.xlabel('$r [a_0]$',fontsize=20)\n",
        "\n",
        "plt.ylabel('$R_{nl}(r)$', fontsize=20)\n",
        "\n",
        "plt.grid('True')\n",
        "\n",
        "ax2=plt.subplot(312, sharex=ax1)\n",
        "\n",
        "plt.plot(r, R**2, lw=3, axes=ax2)\n",
        "\n",
        "plt.xlabel('$r [a_0]$',fontsize=20)\n",
        "\n",
        "plt.ylabel('$R_{nl}(r)^2$', fontsize=20)\n",
        "\n",
        "plt.grid('True')\n",
        "\n",
        "ax3=plt.subplot(313,sharex=ax1)\n",
        "\n",
        "plt.plot(r, r**2*R**2, lw=3, axes=ax3)\n",
        "\n",
        "plt.xlabel('$r [a_0]$',fontsize=20)\n",
        "\n",
        "plt.ylabel('$r^2R_{nl}(r)^2$', fontsize=20)\n",
        "plt.subplots_adjust(hspace=0.3)\n",
        "plt.grid('True')"
      ],
      "metadata": {
        "id": "Q6qXOgTQdMQt"
      },
      "execution_count": null,
      "outputs": []
    },
    {
      "cell_type": "markdown",
      "source": [
        "#### Det vi gjorde ovan går även att göra med en sk. widget som tillåter att vi istället ger huvudkvantalet och bikvantalet genom en my i figuren. "
      ],
      "metadata": {
        "id": "Icm0M5VZdTjt"
      }
    },
    {
      "cell_type": "code",
      "source": [
        "nmax=10\n",
        "\n",
        "\n",
        "@widgets.interact(n = np.arange(1,nmax,1), l = np.arange(0,nmax-1,1))\n",
        "def plot_radial(n=1,l=0):\n",
        "    \n",
        "    r =    np.linspace(0,250,10000)\n",
        "    \n",
        "    psi2 = psi_R(r,n,l)**2 * (r**2)\n",
        "    \n",
        "    plt.plot(r, psi2, lw=2, color='red')\n",
        "    \n",
        "\n",
        "    ''' Styling the plot'''\n",
        "    \n",
        "    plt.xlabel('$r [a_0]$', fontsize=20)\n",
        "\n",
        "    plt.ylabel('$r^2R_{nl}(r)^2$',fontsize=20)\n",
        "    \n",
        "    rmax = n**2*(1+0.5*(1-l*(l+1)/n**2))\n",
        "    \n",
        "    plt.xlim([0, 2*rmax])"
      ],
      "metadata": {
        "id": "K6TOFpN_dRDi"
      },
      "execution_count": null,
      "outputs": []
    },
    {
      "cell_type": "markdown",
      "source": [
        "#### Steg 3: Så låt oss titta mer på den vinkelberoende delen. Här måste vi ange bikvantalen $l$ och $m_l$ "
      ],
      "metadata": {
        "id": "W3_tX0tFiqO2"
      }
    },
    {
      "cell_type": "code",
      "source": [
        "#Ange bikvanttal l\n",
        "l= 2\n",
        "# ange magnetiska kvanttalet m\n",
        "m= 1\n",
        "\n",
        "phi, theta = np.linspace(0, np.pi, 100), np.linspace(0, 2*np.pi, 100) # skapa vektorer med phi och thetavärden\n",
        " \n",
        "phi, theta = np.meshgrid(phi, theta)\n",
        "\n",
        "Ylm = psi_ang(theta,phi,l,m)  # beräkna Ylm med funktionen psi_ang vi definerat ovan"
      ],
      "metadata": {
        "id": "fEuiGQrLiiwS"
      },
      "execution_count": null,
      "outputs": []
    },
    {
      "cell_type": "markdown",
      "source": [
        "#### För att visualisera hur den vinkelberoende delen ser ut i 3D är det enklast att vi går tillbaks till det kartesiska koordinatsystemet. Se här  https://mathworld.wolfram.com/SphericalCoordinates.html?msclkid=207adef1a9e311ec84fd6885b57328a7 för förklaring"
      ],
      "metadata": {
        "id": "ugciDf5oiuOs"
      }
    },
    {
      "cell_type": "code",
      "source": [
        "x = np.sin(phi) * np.cos(theta) * abs(Ylm)\n",
        "y = np.sin(phi) * np.sin(theta) * abs(Ylm)\n",
        "z = np.cos(phi) * abs(Ylm)"
      ],
      "metadata": {
        "id": "3BV0ZV3fix_-"
      },
      "execution_count": null,
      "outputs": []
    },
    {
      "cell_type": "markdown",
      "source": [
        "#### och sedan plotta den... "
      ],
      "metadata": {
        "id": "eKMSe8Asi1Nw"
      }
    },
    {
      "cell_type": "code",
      "source": [
        "%matplotlib inline\n",
        "'''Set up the 3D Canvas'''\n",
        "\n",
        "fig = plt.figure(figsize=(10,10))\n",
        "ax = fig.add_subplot(111, projection='3d')\n",
        "\n",
        "''' Normalize color bar to [0,1] scale'''\n",
        "\n",
        "fcolors = (Ylm - Ylm.min())/(Ylm.max() - Ylm.min())\n",
        "\n",
        "'''Make 3D plot of real part of spherical harmonic'''\n",
        "\n",
        "ax.plot_surface(x, y, z, facecolors=cm.seismic(fcolors), alpha=0.3)\n",
        "\n",
        "\n",
        "''' Project 3D plot onto 2D planes'''\n",
        "\n",
        "cset = ax.contour(x, y, z,20, zdir='z',offset = -1, cmap='summer')\n",
        "cset = ax.contour(x, y, z,20, zdir='y',offset =  1, cmap='winter' )\n",
        "cset = ax.contour(x, y, z,20, zdir='x',offset = -1, cmap='autumn')\n",
        "\n",
        "\n",
        "''' Set axes limit to keep aspect ratio 1:1:1 '''\n",
        "\n",
        "ax.set_xlim(-1, 1)\n",
        "ax.set_ylim(-1, 1)\n",
        "ax.set_zlim(-1, 1)"
      ],
      "metadata": {
        "id": "qx9IUQ4Gi3-m"
      },
      "execution_count": null,
      "outputs": []
    }
  ]
}